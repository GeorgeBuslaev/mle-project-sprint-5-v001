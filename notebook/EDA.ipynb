{
 "cells": [
  {
   "cell_type": "markdown",
   "id": "f40b59eb-d421-4cb2-b852-0f3bcbca440f",
   "metadata": {},
   "source": [
    "# Проект. Создание рекомендательной системы для финансовых продуктов банка"
   ]
  },
  {
   "cell_type": "markdown",
   "id": "6e1f33a6-7036-47a8-bcf5-6839f039e0f0",
   "metadata": {},
   "source": [
    "***Заказчик***: **Caja de ahorros**\n",
    "\n",
    "***Бизнес-задача***: Заказчик хочет стать банком-советником, доверенной площадкой, на которой клиенты получают весь спектр технологичных финансовых услуг. Банк будет выступать агрегатором платформ под собственным брендом, консолидируя разные потребности клиента на единой площадке. Для менеджмента банка важно принимать решения исходя из объективных данных, в том числе в области маркетинга. Основой для развития данной стратегии взаимодействия с клиентами будет являтся приведенное ниже исследование и разрабатываемая рекомнедательная система.\n",
    "\n",
    "***Цель***: Выполнить исследование и подготовку данных, определить эффективные методы машинного обучения для создания персональных рекомендаций с целью повышения.\n",
    "\n",
    "***Гипотеза***: Применение двустадийного подхода и использование дополнительных признаков позволит создавать наиболее релевантные персональные рекомендации.\n",
    "\n",
    "***Ожидаемый результат***: набор скриптов в репозитории, выполнение которых позволит рассчитать персональные рекомендации, а затем запустить соответствующий сервис, который можно будет интегрировать в существующие инструменты взаимодействия с клиентами. "
   ]
  },
  {
   "cell_type": "markdown",
   "id": "acd4cb63-bb88-46e7-8da9-4de1fbcd5ca1",
   "metadata": {},
   "source": [
    "## Подключение библиотек и модулей"
   ]
  },
  {
   "cell_type": "code",
   "execution_count": 1,
   "id": "bf778944-5b9d-4b0c-9261-5038fb1c839b",
   "metadata": {},
   "outputs": [],
   "source": [
    "%load_ext autoreload\n",
    "%autoreload 2"
   ]
  },
  {
   "cell_type": "code",
   "execution_count": 2,
   "id": "0c26fb93-9d17-4d36-b83c-e5d8ce803024",
   "metadata": {},
   "outputs": [],
   "source": [
    "import warnings\n",
    "warnings.filterwarnings('ignore')"
   ]
  },
  {
   "cell_type": "code",
   "execution_count": 1,
   "id": "7a9f085d-f43e-49a3-bebc-c4321f7f1d66",
   "metadata": {},
   "outputs": [
    {
     "name": "stderr",
     "output_type": "stream",
     "text": [
      "/Users/gbuslaev/Projects/mle-project-sprint-5-v001/.venv_recsys_bank/lib/python3.12/site-packages/tqdm/auto.py:21: TqdmWarning: IProgress not found. Please update jupyter and ipywidgets. See https://ipywidgets.readthedocs.io/en/stable/user_install.html\n",
      "  from .autonotebook import tqdm as notebook_tqdm\n"
     ]
    }
   ],
   "source": [
    "import pandas as pd\n",
    "import numpy as np\n",
    "import matplotlib.pyplot as plt\n",
    "import requests\n",
    "import seaborn as sns\n",
    "import pickle\n",
    "import scipy\n",
    "import sklearn.metrics\n",
    "import sklearn.preprocessing\n",
    "from implicit.als import AlternatingLeastSquares\n",
    "#from catboost import CatBoostClassifier, Pool\n",
    "from dotenv import load_dotenv\n",
    "#from tqdm import tqdm\n",
    "from urllib.parse import urlencode\n",
    "import zipfile\n",
    "import os\n",
    "import sys\n",
    "#import mlflow\n",
    "#import psycopg\n",
    "#from sqlalchemy import create_engine\n",
    "import yaml\n",
    "from dotenv import load_dotenv"
   ]
  },
  {
   "cell_type": "markdown",
   "id": "62f60e50-6203-4052-840e-47d9af0d9a06",
   "metadata": {},
   "source": [
    "## Работа с локальными переменными и подключение к БД"
   ]
  },
  {
   "cell_type": "raw",
   "id": "47ecf754-bb31-4f95-8c9f-964c2b59f71c",
   "metadata": {},
   "source": [
    "load_dotenv()"
   ]
  },
  {
   "cell_type": "code",
   "execution_count": 2,
   "id": "535008f9-f421-4a0e-9274-01c03630265a",
   "metadata": {},
   "outputs": [],
   "source": [
    "ASSETS = \"assets\"\n",
    "FILE_NAME = './data/initial_data.csv.zip'\n",
    "FILE_NAME_CSV = './data/train_ver2.csv'\n",
    "DATA = \"./data\""
   ]
  },
  {
   "cell_type": "code",
   "execution_count": 3,
   "id": "503de517-fbc0-4805-9e13-2b81f3a771ec",
   "metadata": {},
   "outputs": [],
   "source": [
    "TRACKING_SERVER_HOST = \"127.0.0.1\"\n",
    "TRACKING_SERVER_PORT = 5000\n",
    "YOUR_NAME = \"GEORGE_V_BUSLAEV\" # введите своё имя для создания уникального эксперимента\n",
    "assert YOUR_NAME, \"введите своё имя в переменной YOUR_NAME для создания уникального эксперимента\"\n",
    "EXPERIMENT_NAME = f\"bank_rexsys_by_{YOUR_NAME}\"\n",
    "REGISTRY_MODEL_NAME = \"bank_recsys_model_george_buslaev\"\n",
    "RANDOM_STATE = 23"
   ]
  },
  {
   "cell_type": "code",
   "execution_count": 5,
   "id": "34469aef-bab0-47a3-b847-de77f9f39202",
   "metadata": {},
   "outputs": [],
   "source": [
    "os.makedirs(ASSETS, exist_ok=True)\n",
    "os.makedirs('../data', exist_ok=True)"
   ]
  },
  {
   "cell_type": "code",
   "execution_count": 6,
   "id": "df0030c4-0dcc-4208-be01-b30c5f8dab78",
   "metadata": {},
   "outputs": [],
   "source": [
    "s3_bucket = os.environ.get('S3_BUCKET_NAME')\n",
    "s3_access_key = os.environ.get('AWS_ACCESS_KEY_ID')\n",
    "s3_secret_access_key = os.environ.get('AWS_SECRET_ACCESS_KEY')"
   ]
  },
  {
   "cell_type": "raw",
   "id": "c18e4469-165d-40ca-ac34-e6513e44e3a9",
   "metadata": {},
   "source": [
    "mlflow.set_tracking_uri(f\"http://{TRACKING_SERVER_HOST}:{TRACKING_SERVER_PORT}\")\n",
    "mlflow.set_registry_uri(f\"http://{TRACKING_SERVER_HOST}:{TRACKING_SERVER_PORT}\")"
   ]
  },
  {
   "cell_type": "raw",
   "id": "f35679c7-e1dc-491b-baa8-037a31e8c161",
   "metadata": {
    "scrolled": true
   },
   "source": [
    "experiment_id = mlflow.get_experiment_by_name(EXPERIMENT_NAME)\n",
    "if not experiment_id:\n",
    "    experiment_id = mlflow.create_experiment(EXPERIMENT_NAME)"
   ]
  },
  {
   "cell_type": "markdown",
   "id": "cc1dfbe5-9773-4236-b3bd-2a13a9057029",
   "metadata": {},
   "source": [
    "## Исследовательский Анализ Данных (EDA)\n",
    "\n",
    "На этом этапе будет проведен исследовательский анализ данных (EDA), чтобы глубже понять особенности и связи в предоставленном наборе данных."
   ]
  },
  {
   "cell_type": "markdown",
   "id": "2a4141c4-13e5-4d78-b10c-f4bed1c0e623",
   "metadata": {},
   "source": [
    "### Загрузка и предварительный обзор данных"
   ]
  },
  {
   "cell_type": "code",
   "execution_count": 7,
   "id": "2231a559-67ca-40c8-b9fa-c4f19ca3d357",
   "metadata": {},
   "outputs": [],
   "source": [
    "def yandex_disk_download(public_key, file_name):\n",
    "    base_url = 'https://cloud-api.yandex.net/v1/disk/public/resources/download?'\n",
    "    final_url = base_url + urlencode(dict(public_key=public_key))\n",
    "    response = requests.get(final_url)\n",
    "    urlencode(dict(public_key=public_key))\n",
    "    download_url = response.json()['href']\n",
    "    download_response = requests.get(download_url)\n",
    "    with open(file_name, 'wb') as f:\n",
    "        f.write(download_response.content)"
   ]
  },
  {
   "cell_type": "code",
   "execution_count": 8,
   "id": "58550887-3e5e-4591-9aad-8ecd73fae05e",
   "metadata": {},
   "outputs": [],
   "source": [
    "def extract_zip(zip_filepath, extract_to_dir):\n",
    "    \"\"\"Извлекает zip-файл в указанный каталог.\n",
    "    Args:\n",
    "    zip_filepath: Путь к .zip-файлу;\n",
    "    extract_to_dir: Каталог для извлечения файлов. Будет создан, если он не существует.\n",
    "    \"\"\"\n",
    "    if not os.path.exists(extract_to_dir):\n",
    "        os.makedirs(extract_to_dir)\n",
    "\n",
    "    try:\n",
    "        with zipfile.ZipFile(zip_filepath, 'r') as zip_ref:\n",
    "            zip_ref.extractall(extract_to_dir)\n",
    "        print(f\"Файлы успешно распаковыаны в: {extract_to_dir}\")\n",
    "    except FileNotFoundError:\n",
    "        print(f\"Ошибка: Zip-файл не найден по адресу: {zip_filepath}\")\n",
    "    except zipfile.BadZipFile:\n",
    "        print(f\"Ошибка: Неверный или поврежденный zip-файл: {zip_filepath}\")\n",
    "    except Exception as e:\n",
    "        print(f\"Произошла непредвиденная ошибка: {e}\")"
   ]
  },
  {
   "cell_type": "code",
   "execution_count": 10,
   "id": "013d53f0-2e75-4dde-ad31-5e47499a734e",
   "metadata": {},
   "outputs": [
    {
     "name": "stdout",
     "output_type": "stream",
     "text": [
      "Идет загрузка данных\n",
      "Загрузка данных закончена, идет распаковка\n",
      "Файлы успешно распаковыаны в: ./data\n"
     ]
    }
   ],
   "source": [
    "if not os.path.exists(FILE_NAME):\n",
    "    print(f\"Идет загрузка данных\")\n",
    "    yandex_disk_download('https://disk.yandex.com/d/Io0siOESo2RAaA', FILE_NAME)\n",
    "    print(f\"Загрузка данных закончена, идет распаковка\")\n",
    "    extract_zip(FILE_NAME, DATA)   \n",
    "else:\n",
    "    print(f\"Данные уже загружены\")"
   ]
  },
  {
   "cell_type": "code",
   "execution_count": 4,
   "id": "1a00b1e8-8741-4086-86cb-4dc52c65f8e4",
   "metadata": {},
   "outputs": [
    {
     "name": "stdout",
     "output_type": "stream",
     "text": [
      "<class 'pandas.core.frame.DataFrame'>\n",
      "RangeIndex: 13647309 entries, 0 to 13647308\n",
      "Data columns (total 48 columns):\n",
      " #   Column                 Dtype         \n",
      "---  ------                 -----         \n",
      " 0   fecha_dato             datetime64[ns]\n",
      " 1   ncodpers               int64         \n",
      " 2   ind_empleado           object        \n",
      " 3   pais_residencia        object        \n",
      " 4   sexo                   object        \n",
      " 5   age                    object        \n",
      " 6   fecha_alta             datetime64[ns]\n",
      " 7   ind_nuevo              object        \n",
      " 8   antiguedad             object        \n",
      " 9   indrel                 object        \n",
      " 10  ult_fec_cli_1t         datetime64[ns]\n",
      " 11  indrel_1mes            object        \n",
      " 12  tiprel_1mes            object        \n",
      " 13  indresi                object        \n",
      " 14  indext                 object        \n",
      " 15  conyuemp               object        \n",
      " 16  canal_entrada          object        \n",
      " 17  indfall                object        \n",
      " 18  tipodom                object        \n",
      " 19  cod_prov               object        \n",
      " 20  nomprov                object        \n",
      " 21  ind_actividad_cliente  object        \n",
      " 22  renta                  object        \n",
      " 23  segmento               object        \n",
      " 24  ind_ahor_fin_ult1      int64         \n",
      " 25  ind_aval_fin_ult1      int64         \n",
      " 26  ind_cco_fin_ult1       int64         \n",
      " 27  ind_cder_fin_ult1      int64         \n",
      " 28  ind_cno_fin_ult1       int64         \n",
      " 29  ind_ctju_fin_ult1      int64         \n",
      " 30  ind_ctma_fin_ult1      int64         \n",
      " 31  ind_ctop_fin_ult1      int64         \n",
      " 32  ind_ctpp_fin_ult1      int64         \n",
      " 33  ind_deco_fin_ult1      int64         \n",
      " 34  ind_deme_fin_ult1      int64         \n",
      " 35  ind_dela_fin_ult1      int64         \n",
      " 36  ind_ecue_fin_ult1      int64         \n",
      " 37  ind_fond_fin_ult1      int64         \n",
      " 38  ind_hip_fin_ult1       int64         \n",
      " 39  ind_plan_fin_ult1      int64         \n",
      " 40  ind_pres_fin_ult1      int64         \n",
      " 41  ind_reca_fin_ult1      int64         \n",
      " 42  ind_tjcr_fin_ult1      int64         \n",
      " 43  ind_valo_fin_ult1      int64         \n",
      " 44  ind_viv_fin_ult1       int64         \n",
      " 45  ind_nomina_ult1        object        \n",
      " 46  ind_nom_pens_ult1      object        \n",
      " 47  ind_recibo_ult1        int64         \n",
      "dtypes: datetime64[ns](3), int64(23), object(22)\n",
      "memory usage: 4.9+ GB\n"
     ]
    }
   ],
   "source": [
    "df = pd.read_csv('./data/train_ver2.csv',\n",
    "                  parse_dates = ['fecha_dato',\n",
    "                                 'fecha_alta',\n",
    "                                 'ult_fec_cli_1t'],\n",
    "                  low_memory=False,\n",
    "                  keep_default_na=False\n",
    "                 )\n",
    "df.info()"
   ]
  },
  {
   "cell_type": "code",
   "execution_count": 5,
   "id": "12fcabf9-7f8d-4691-90c5-a5ad8bfb9537",
   "metadata": {},
   "outputs": [
    {
     "data": {
      "text/plain": [
       "<DatetimeArray>\n",
       "['2015-01-28 00:00:00', '2015-02-28 00:00:00', '2015-03-28 00:00:00',\n",
       " '2015-04-28 00:00:00', '2015-05-28 00:00:00', '2015-06-28 00:00:00',\n",
       " '2015-07-28 00:00:00', '2015-08-28 00:00:00', '2015-09-28 00:00:00',\n",
       " '2015-10-28 00:00:00', '2015-11-28 00:00:00', '2015-12-28 00:00:00',\n",
       " '2016-01-28 00:00:00', '2016-02-28 00:00:00', '2016-03-28 00:00:00',\n",
       " '2016-04-28 00:00:00', '2016-05-28 00:00:00']\n",
       "Length: 17, dtype: datetime64[ns]"
      ]
     },
     "execution_count": 5,
     "metadata": {},
     "output_type": "execute_result"
    }
   ],
   "source": [
    "df['fecha_dato'].unique()"
   ]
  },
  {
   "cell_type": "markdown",
   "id": "c4ba32d5-dfbb-4836-999c-a19482120677",
   "metadata": {},
   "source": [
    "Данные начинаются с 28 января 2015 года и содержат ежемесячные записи о продуктах, которые имеет клиент, например, «кредитная карта», «сберегательный счет» и т. д. Необходимо предсказать, какие дополнительные продукты клиент получит в месяце 2016 года. "
   ]
  },
  {
   "cell_type": "markdown",
   "id": "adc839c0-1543-4ddd-a458-7731ee579e37",
   "metadata": {},
   "source": [
    "### Предварительный обзор данных"
   ]
  },
  {
   "cell_type": "markdown",
   "id": "55d81d4a-7f31-4f90-9f70-8c4457cb4e2b",
   "metadata": {},
   "source": [
    "В таблице присутсвуют данные по следующим признакам:\n",
    "\n",
    "- *fecha_dato* — Исследуемые даты по месяцам,\n",
    "\n",
    "- *ncodpers* — Идентификатор пользователя,\n",
    "\n",
    "- *ind_empleado* — Статус занятости:\n",
    "                    - A — трудоустроен\n",
    "                    - B — безработный, раньше работал\n",
    "                    - F — иждивенец\n",
    "                    - N — безработный\n",
    "                    - P — пассивный (статус не определён),\n",
    "\n",
    "- *pais_residencia* — Страна резидентства,\n",
    "\n",
    "- *sexo* — Пол,\n",
    "\n",
    "- *age* — Возраст,\n",
    "\n",
    "- *fecha_alta* — Дата, когда клиент впервые заключил договор в банке,\n",
    "\n",
    "- *ind_nuevo* — 1, если клиент зарегистрировался за последние 6 месяце,\n",
    "\n",
    "- *antiguedad* — Стаж клиента (в месяцах),\n",
    "\n",
    "- *indrel* — 1 если первичный клиент, 99 — первичный клиент в течении месяца, но не в конце,\n",
    "\n",
    "- *ult_fec_cli_1t* — Последняя дата, когда клиент был премиальным,\n",
    "\n",
    "- *indrel_1mes* — Тип клиента в начале месяца:\n",
    "                    - 1 — премиальный\n",
    "                    - 2 — собственник\n",
    "                    - P — потенциальный\n",
    "                    - 3 — раньше был премиальным\n",
    "                    - 4 — раньше был собственником.\n",
    "\n",
    "- *tiprel_1mes* — Тип клиента в начале месяца:\n",
    "                    - A — активный\n",
    "                    - I — неактивный\n",
    "                    - P — бывший\n",
    "                    - R — потенциальный.\n",
    "\n",
    "- *indresi* — Если страна проживания совпадает со страной банка,\n",
    "\n",
    "- *indext* — Если страна рождения клиента отличается от страны банка,\n",
    "\n",
    "- *conyuemp* — 1, если клиент супруг(а) работника,\n",
    "\n",
    "- *canal_entrada* — Канал, по которому пришел пользователь,\n",
    "\n",
    "- *indfall* — Индекс актуальности счёта (англ. Deceased index, N/S),\n",
    "\n",
    "- *tipodom* — Тип адреса (1 — основной адрес),\n",
    "\n",
    "- *cod_prov* — Код провинции (адреса клиента),\n",
    "\n",
    "- *nomprov* — Имя провинции,\n",
    "\n",
    "- *ind_actividad_cliente* — Активность пользователя (1 — активный, 0 — неактивный),\n",
    "\n",
    "- *renta* — Доход домохозяйства,\n",
    "\n",
    "- *segmento* — Сегментация: 1 — VIP, 2 — Обыкновенные 3 — выпускники колледжей.\n",
    "---\n",
    "\n",
    "И целевые признаки обозначаются:\n",
    "- ***ind_ahor_fin_ult1*** **— Сберегательный счёт,**\n",
    "- ***ind_aval_fin_ult1*** **— Банковская гарантия,**\n",
    "- ***ind_cco_fin_ult1*** **— Текущие счета,**\n",
    "- ***ind_cder_fin_ult1*** **— Деривативный счёт,**\n",
    "- ***ind_cno_fin_ult1*** **— Зарплатный проект,**\n",
    "- ***ind_ctju_fin_ult1*** **— Детский счёт,**\n",
    "- ***ind_ctma_fin_ult1*** **— Особый счёт 3,**\n",
    "- ***ind_ctop_fin_ult1*** **— Особый счёт,**\n",
    "- ***ind_ctpp_fin_ult1*** **— Особый счёт 2,**\n",
    "- ***ind_deco_fin_ult1*** **— Краткосрочный депозит,**\n",
    "- ***ind_deme_fin_ult1*** **— Среднесрочный депозит,**\n",
    "- ***ind_dela_fin_ult1*** **— Долгосрочный депозит,**\n",
    "- ***ind_ecue_fin_ult1*** **— Цифровой счёт,**\n",
    "- ***ind_fond_fin_ult1*** **— Денежный средства,**\n",
    "- ***ind_hip_fin_ult1*** **— Ипотека,**\n",
    "- ***ind_plan_fin_ult1*** **— Пенсионный план,**\n",
    "- ***ind_pres_fin_ult1*** **— Кредит,**\n",
    "- ***ind_reca_fin_ult1*** **— Налоговый счёт,**\n",
    "- ***ind_tjcr_fin_ult1*** **— Кредитная карта,**\n",
    "- ***ind_valo_fin_ult1*** **— Ценные бумаги,**\n",
    "- ***ind_viv_fin_ult1*** **— Домашний счёт,**\n",
    "- ***ind_nomina_ult1*** **— Аккаунт для выплаты зарплаты,**\n",
    "- ***ind_nom_pens_ult1*** **— Аккаунт для пенсионных обязательств,**\n",
    "- ***ind_recibo_ult1*** **— Дебетовый аккаунт.**\n",
    "---"
   ]
  },
  {
   "cell_type": "code",
   "execution_count": 6,
   "id": "e98027bb-e30b-4ca1-a2a7-bb8d582c4ff7",
   "metadata": {},
   "outputs": [
    {
     "data": {
      "text/html": [
       "<div>\n",
       "<style scoped>\n",
       "    .dataframe tbody tr th:only-of-type {\n",
       "        vertical-align: middle;\n",
       "    }\n",
       "\n",
       "    .dataframe tbody tr th {\n",
       "        vertical-align: top;\n",
       "    }\n",
       "\n",
       "    .dataframe thead th {\n",
       "        text-align: right;\n",
       "    }\n",
       "</style>\n",
       "<table border=\"1\" class=\"dataframe\">\n",
       "  <thead>\n",
       "    <tr style=\"text-align: right;\">\n",
       "      <th></th>\n",
       "      <th>fecha_dato</th>\n",
       "      <th>ncodpers</th>\n",
       "      <th>ind_empleado</th>\n",
       "      <th>pais_residencia</th>\n",
       "      <th>sexo</th>\n",
       "      <th>age</th>\n",
       "      <th>fecha_alta</th>\n",
       "      <th>ind_nuevo</th>\n",
       "      <th>antiguedad</th>\n",
       "      <th>indrel</th>\n",
       "      <th>...</th>\n",
       "      <th>indext</th>\n",
       "      <th>conyuemp</th>\n",
       "      <th>canal_entrada</th>\n",
       "      <th>indfall</th>\n",
       "      <th>tipodom</th>\n",
       "      <th>cod_prov</th>\n",
       "      <th>nomprov</th>\n",
       "      <th>ind_actividad_cliente</th>\n",
       "      <th>renta</th>\n",
       "      <th>segmento</th>\n",
       "    </tr>\n",
       "  </thead>\n",
       "  <tbody>\n",
       "    <tr>\n",
       "      <th>0</th>\n",
       "      <td>2015-01-28</td>\n",
       "      <td>1375586</td>\n",
       "      <td>N</td>\n",
       "      <td>ES</td>\n",
       "      <td>H</td>\n",
       "      <td>35</td>\n",
       "      <td>2015-01-12</td>\n",
       "      <td>0</td>\n",
       "      <td>6</td>\n",
       "      <td>1</td>\n",
       "      <td>...</td>\n",
       "      <td>N</td>\n",
       "      <td></td>\n",
       "      <td>KHL</td>\n",
       "      <td>N</td>\n",
       "      <td>1</td>\n",
       "      <td>29</td>\n",
       "      <td>MALAGA</td>\n",
       "      <td>1</td>\n",
       "      <td>87218.1</td>\n",
       "      <td>02 - PARTICULARES</td>\n",
       "    </tr>\n",
       "    <tr>\n",
       "      <th>1</th>\n",
       "      <td>2015-01-28</td>\n",
       "      <td>1050611</td>\n",
       "      <td>N</td>\n",
       "      <td>ES</td>\n",
       "      <td>V</td>\n",
       "      <td>23</td>\n",
       "      <td>2012-08-10</td>\n",
       "      <td>0</td>\n",
       "      <td>35</td>\n",
       "      <td>1</td>\n",
       "      <td>...</td>\n",
       "      <td>S</td>\n",
       "      <td></td>\n",
       "      <td>KHE</td>\n",
       "      <td>N</td>\n",
       "      <td>1</td>\n",
       "      <td>13</td>\n",
       "      <td>CIUDAD REAL</td>\n",
       "      <td>0</td>\n",
       "      <td>35548.74</td>\n",
       "      <td>03 - UNIVERSITARIO</td>\n",
       "    </tr>\n",
       "    <tr>\n",
       "      <th>2</th>\n",
       "      <td>2015-01-28</td>\n",
       "      <td>1050612</td>\n",
       "      <td>N</td>\n",
       "      <td>ES</td>\n",
       "      <td>V</td>\n",
       "      <td>23</td>\n",
       "      <td>2012-08-10</td>\n",
       "      <td>0</td>\n",
       "      <td>35</td>\n",
       "      <td>1</td>\n",
       "      <td>...</td>\n",
       "      <td>N</td>\n",
       "      <td></td>\n",
       "      <td>KHE</td>\n",
       "      <td>N</td>\n",
       "      <td>1</td>\n",
       "      <td>13</td>\n",
       "      <td>CIUDAD REAL</td>\n",
       "      <td>0</td>\n",
       "      <td>122179.11000000002</td>\n",
       "      <td>03 - UNIVERSITARIO</td>\n",
       "    </tr>\n",
       "    <tr>\n",
       "      <th>3</th>\n",
       "      <td>2015-01-28</td>\n",
       "      <td>1050613</td>\n",
       "      <td>N</td>\n",
       "      <td>ES</td>\n",
       "      <td>H</td>\n",
       "      <td>22</td>\n",
       "      <td>2012-08-10</td>\n",
       "      <td>0</td>\n",
       "      <td>35</td>\n",
       "      <td>1</td>\n",
       "      <td>...</td>\n",
       "      <td>N</td>\n",
       "      <td></td>\n",
       "      <td>KHD</td>\n",
       "      <td>N</td>\n",
       "      <td>1</td>\n",
       "      <td>50</td>\n",
       "      <td>ZARAGOZA</td>\n",
       "      <td>0</td>\n",
       "      <td>119775.54</td>\n",
       "      <td>03 - UNIVERSITARIO</td>\n",
       "    </tr>\n",
       "    <tr>\n",
       "      <th>4</th>\n",
       "      <td>2015-01-28</td>\n",
       "      <td>1050614</td>\n",
       "      <td>N</td>\n",
       "      <td>ES</td>\n",
       "      <td>V</td>\n",
       "      <td>23</td>\n",
       "      <td>2012-08-10</td>\n",
       "      <td>0</td>\n",
       "      <td>35</td>\n",
       "      <td>1</td>\n",
       "      <td>...</td>\n",
       "      <td>N</td>\n",
       "      <td></td>\n",
       "      <td>KHE</td>\n",
       "      <td>N</td>\n",
       "      <td>1</td>\n",
       "      <td>50</td>\n",
       "      <td>ZARAGOZA</td>\n",
       "      <td>1</td>\n",
       "      <td></td>\n",
       "      <td>03 - UNIVERSITARIO</td>\n",
       "    </tr>\n",
       "  </tbody>\n",
       "</table>\n",
       "<p>5 rows × 24 columns</p>\n",
       "</div>"
      ],
      "text/plain": [
       "  fecha_dato  ncodpers ind_empleado pais_residencia sexo  age fecha_alta  \\\n",
       "0 2015-01-28   1375586            N              ES    H   35 2015-01-12   \n",
       "1 2015-01-28   1050611            N              ES    V   23 2012-08-10   \n",
       "2 2015-01-28   1050612            N              ES    V   23 2012-08-10   \n",
       "3 2015-01-28   1050613            N              ES    H   22 2012-08-10   \n",
       "4 2015-01-28   1050614            N              ES    V   23 2012-08-10   \n",
       "\n",
       "  ind_nuevo antiguedad indrel  ... indext conyuemp canal_entrada indfall  \\\n",
       "0         0          6      1  ...      N                    KHL       N   \n",
       "1         0         35      1  ...      S                    KHE       N   \n",
       "2         0         35      1  ...      N                    KHE       N   \n",
       "3         0         35      1  ...      N                    KHD       N   \n",
       "4         0         35      1  ...      N                    KHE       N   \n",
       "\n",
       "  tipodom cod_prov      nomprov ind_actividad_cliente               renta  \\\n",
       "0       1       29       MALAGA                     1             87218.1   \n",
       "1       1       13  CIUDAD REAL                     0            35548.74   \n",
       "2       1       13  CIUDAD REAL                     0  122179.11000000002   \n",
       "3       1       50     ZARAGOZA                     0           119775.54   \n",
       "4       1       50     ZARAGOZA                     1                       \n",
       "\n",
       "             segmento  \n",
       "0   02 - PARTICULARES  \n",
       "1  03 - UNIVERSITARIO  \n",
       "2  03 - UNIVERSITARIO  \n",
       "3  03 - UNIVERSITARIO  \n",
       "4  03 - UNIVERSITARIO  \n",
       "\n",
       "[5 rows x 24 columns]"
      ]
     },
     "execution_count": 6,
     "metadata": {},
     "output_type": "execute_result"
    }
   ],
   "source": [
    "df[df.columns[:24]].head()"
   ]
  },
  {
   "cell_type": "code",
   "execution_count": 7,
   "id": "0df584e1-97e7-44bc-8df3-5bc752abfb22",
   "metadata": {},
   "outputs": [
    {
     "data": {
      "text/html": [
       "<div>\n",
       "<style scoped>\n",
       "    .dataframe tbody tr th:only-of-type {\n",
       "        vertical-align: middle;\n",
       "    }\n",
       "\n",
       "    .dataframe tbody tr th {\n",
       "        vertical-align: top;\n",
       "    }\n",
       "\n",
       "    .dataframe thead th {\n",
       "        text-align: right;\n",
       "    }\n",
       "</style>\n",
       "<table border=\"1\" class=\"dataframe\">\n",
       "  <thead>\n",
       "    <tr style=\"text-align: right;\">\n",
       "      <th></th>\n",
       "      <th>ind_ahor_fin_ult1</th>\n",
       "      <th>ind_aval_fin_ult1</th>\n",
       "      <th>ind_cco_fin_ult1</th>\n",
       "      <th>ind_cder_fin_ult1</th>\n",
       "      <th>ind_cno_fin_ult1</th>\n",
       "      <th>ind_ctju_fin_ult1</th>\n",
       "      <th>ind_ctma_fin_ult1</th>\n",
       "      <th>ind_ctop_fin_ult1</th>\n",
       "      <th>ind_ctpp_fin_ult1</th>\n",
       "      <th>ind_deco_fin_ult1</th>\n",
       "      <th>...</th>\n",
       "      <th>ind_hip_fin_ult1</th>\n",
       "      <th>ind_plan_fin_ult1</th>\n",
       "      <th>ind_pres_fin_ult1</th>\n",
       "      <th>ind_reca_fin_ult1</th>\n",
       "      <th>ind_tjcr_fin_ult1</th>\n",
       "      <th>ind_valo_fin_ult1</th>\n",
       "      <th>ind_viv_fin_ult1</th>\n",
       "      <th>ind_nomina_ult1</th>\n",
       "      <th>ind_nom_pens_ult1</th>\n",
       "      <th>ind_recibo_ult1</th>\n",
       "    </tr>\n",
       "  </thead>\n",
       "  <tbody>\n",
       "    <tr>\n",
       "      <th>0</th>\n",
       "      <td>0</td>\n",
       "      <td>0</td>\n",
       "      <td>1</td>\n",
       "      <td>0</td>\n",
       "      <td>0</td>\n",
       "      <td>0</td>\n",
       "      <td>0</td>\n",
       "      <td>0</td>\n",
       "      <td>0</td>\n",
       "      <td>0</td>\n",
       "      <td>...</td>\n",
       "      <td>0</td>\n",
       "      <td>0</td>\n",
       "      <td>0</td>\n",
       "      <td>0</td>\n",
       "      <td>0</td>\n",
       "      <td>0</td>\n",
       "      <td>0</td>\n",
       "      <td>0</td>\n",
       "      <td>0</td>\n",
       "      <td>0</td>\n",
       "    </tr>\n",
       "    <tr>\n",
       "      <th>1</th>\n",
       "      <td>0</td>\n",
       "      <td>0</td>\n",
       "      <td>1</td>\n",
       "      <td>0</td>\n",
       "      <td>0</td>\n",
       "      <td>0</td>\n",
       "      <td>0</td>\n",
       "      <td>0</td>\n",
       "      <td>0</td>\n",
       "      <td>0</td>\n",
       "      <td>...</td>\n",
       "      <td>0</td>\n",
       "      <td>0</td>\n",
       "      <td>0</td>\n",
       "      <td>0</td>\n",
       "      <td>0</td>\n",
       "      <td>0</td>\n",
       "      <td>0</td>\n",
       "      <td>0</td>\n",
       "      <td>0</td>\n",
       "      <td>0</td>\n",
       "    </tr>\n",
       "    <tr>\n",
       "      <th>2</th>\n",
       "      <td>0</td>\n",
       "      <td>0</td>\n",
       "      <td>1</td>\n",
       "      <td>0</td>\n",
       "      <td>0</td>\n",
       "      <td>0</td>\n",
       "      <td>0</td>\n",
       "      <td>0</td>\n",
       "      <td>0</td>\n",
       "      <td>0</td>\n",
       "      <td>...</td>\n",
       "      <td>0</td>\n",
       "      <td>0</td>\n",
       "      <td>0</td>\n",
       "      <td>0</td>\n",
       "      <td>0</td>\n",
       "      <td>0</td>\n",
       "      <td>0</td>\n",
       "      <td>0</td>\n",
       "      <td>0</td>\n",
       "      <td>0</td>\n",
       "    </tr>\n",
       "    <tr>\n",
       "      <th>3</th>\n",
       "      <td>0</td>\n",
       "      <td>0</td>\n",
       "      <td>0</td>\n",
       "      <td>0</td>\n",
       "      <td>0</td>\n",
       "      <td>0</td>\n",
       "      <td>0</td>\n",
       "      <td>0</td>\n",
       "      <td>0</td>\n",
       "      <td>1</td>\n",
       "      <td>...</td>\n",
       "      <td>0</td>\n",
       "      <td>0</td>\n",
       "      <td>0</td>\n",
       "      <td>0</td>\n",
       "      <td>0</td>\n",
       "      <td>0</td>\n",
       "      <td>0</td>\n",
       "      <td>0</td>\n",
       "      <td>0</td>\n",
       "      <td>0</td>\n",
       "    </tr>\n",
       "    <tr>\n",
       "      <th>4</th>\n",
       "      <td>0</td>\n",
       "      <td>0</td>\n",
       "      <td>1</td>\n",
       "      <td>0</td>\n",
       "      <td>0</td>\n",
       "      <td>0</td>\n",
       "      <td>0</td>\n",
       "      <td>0</td>\n",
       "      <td>0</td>\n",
       "      <td>0</td>\n",
       "      <td>...</td>\n",
       "      <td>0</td>\n",
       "      <td>0</td>\n",
       "      <td>0</td>\n",
       "      <td>0</td>\n",
       "      <td>0</td>\n",
       "      <td>0</td>\n",
       "      <td>0</td>\n",
       "      <td>0</td>\n",
       "      <td>0</td>\n",
       "      <td>0</td>\n",
       "    </tr>\n",
       "  </tbody>\n",
       "</table>\n",
       "<p>5 rows × 24 columns</p>\n",
       "</div>"
      ],
      "text/plain": [
       "   ind_ahor_fin_ult1  ind_aval_fin_ult1  ind_cco_fin_ult1  ind_cder_fin_ult1  \\\n",
       "0                  0                  0                 1                  0   \n",
       "1                  0                  0                 1                  0   \n",
       "2                  0                  0                 1                  0   \n",
       "3                  0                  0                 0                  0   \n",
       "4                  0                  0                 1                  0   \n",
       "\n",
       "   ind_cno_fin_ult1  ind_ctju_fin_ult1  ind_ctma_fin_ult1  ind_ctop_fin_ult1  \\\n",
       "0                 0                  0                  0                  0   \n",
       "1                 0                  0                  0                  0   \n",
       "2                 0                  0                  0                  0   \n",
       "3                 0                  0                  0                  0   \n",
       "4                 0                  0                  0                  0   \n",
       "\n",
       "   ind_ctpp_fin_ult1  ind_deco_fin_ult1  ...  ind_hip_fin_ult1  \\\n",
       "0                  0                  0  ...                 0   \n",
       "1                  0                  0  ...                 0   \n",
       "2                  0                  0  ...                 0   \n",
       "3                  0                  1  ...                 0   \n",
       "4                  0                  0  ...                 0   \n",
       "\n",
       "   ind_plan_fin_ult1  ind_pres_fin_ult1  ind_reca_fin_ult1  ind_tjcr_fin_ult1  \\\n",
       "0                  0                  0                  0                  0   \n",
       "1                  0                  0                  0                  0   \n",
       "2                  0                  0                  0                  0   \n",
       "3                  0                  0                  0                  0   \n",
       "4                  0                  0                  0                  0   \n",
       "\n",
       "   ind_valo_fin_ult1  ind_viv_fin_ult1  ind_nomina_ult1  ind_nom_pens_ult1  \\\n",
       "0                  0                 0                0                  0   \n",
       "1                  0                 0                0                  0   \n",
       "2                  0                 0                0                  0   \n",
       "3                  0                 0                0                  0   \n",
       "4                  0                 0                0                  0   \n",
       "\n",
       "   ind_recibo_ult1  \n",
       "0                0  \n",
       "1                0  \n",
       "2                0  \n",
       "3                0  \n",
       "4                0  \n",
       "\n",
       "[5 rows x 24 columns]"
      ]
     },
     "execution_count": 7,
     "metadata": {},
     "output_type": "execute_result"
    }
   ],
   "source": [
    "df[df.columns[24:]].head()"
   ]
  },
  {
   "cell_type": "code",
   "execution_count": 10,
   "id": "9e92e904-4e04-417f-9524-394599da7bb5",
   "metadata": {},
   "outputs": [
    {
     "data": {
      "image/png": "[encoded data removed]",
      "text/plain": [
       "<Figure size 1650x4000 with 12 Axes>"
      ]
     },
     "metadata": {},
     "output_type": "display_data"
    }
   ],
   "source": [
    "fig, axs = plt.subplots(6, 2)\n",
    "fig.set_size_inches(16.5, 40, forward=True)\n",
    "fig.tight_layout(pad=1.6)\n",
    "\n",
    "x = \"tiprel_1mes\"\n",
    "y = \"ncodpers\"\n",
    "stat = [\"count\"]\n",
    "agg_df = pd.DataFrame(df.groupby(by=x).agg({y: \"count\"}).reset_index())\n",
    "sns.barplot(data=agg_df, x=x, y=y, ax=axs[0, 0])\n",
    "axs[0, 0].set_title(f'Count {y} by {x} in train dataframe')\n",
    "\n",
    "x = \"indrel_1mes\"\n",
    "y = \"ncodpers\"\n",
    "stat = [\"count\"]\n",
    "agg_df = pd.DataFrame(df.groupby(by=x).agg({y: \"count\"}).reset_index())\n",
    "sns.barplot(data=agg_df, x=x, y=y, ax=axs[0, 1])\n",
    "axs[1, 0].set_title(f'Count {y} by {x} in train dataframe')\n",
    "\n",
    "x = \"ind_actividad_cliente\"\n",
    "y = \"ncodpers\"\n",
    "stat = [\"count\"]\n",
    "agg_df = pd.DataFrame(df.groupby(by=x).agg({y: \"count\"}).reset_index())\n",
    "sns.barplot(data=agg_df, x=x, y=y, ax=axs[1, 0])\n",
    "axs[0, 1].set_title(f'Count {y} by {x} in train dataframe')\n",
    "\n",
    "x = \"ind_empleado\"\n",
    "y = \"ncodpers\"\n",
    "stat = [\"count\"]\n",
    "agg_df = pd.DataFrame(df.groupby(by=x).agg({y: \"count\"}).reset_index())\n",
    "sns.barplot(data=agg_df, x=x, y=y, ax=axs[1, 1])\n",
    "axs[1, 1].set_title(f'Count {y} by {x} in train dataframe')\n",
    "\n",
    "x = \"sexo\"\n",
    "y = \"ncodpers\"\n",
    "stat = [\"count\"]\n",
    "agg_df = pd.DataFrame(df.groupby(by=x).agg({y: \"count\"}).reset_index())\n",
    "sns.barplot(data=agg_df, x=x, y=y, ax=axs[2, 0])\n",
    "axs[2, 0].set_title(f'Count {y} by {x} in train dataframe')\n",
    "\n",
    "x = \"indrel\"\n",
    "y = \"ncodpers\"\n",
    "stat = [\"count\"]\n",
    "agg_df = pd.DataFrame(df.groupby(by=x).agg({y: \"count\"}).reset_index())\n",
    "sns.barplot(data=agg_df, x=x, y=y, ax=axs[2, 1])\n",
    "axs[2, 1].set_title(f'Count {y} by {x} in train dataframe')\n",
    "\n",
    "x = \"pais_residencia\"\n",
    "y = \"ncodpers\"\n",
    "stat = [\"count\"]\n",
    "agg_df = pd.DataFrame(df.groupby(by=x).agg({y: \"count\"}).reset_index())\n",
    "sns.barplot(data=agg_df, x=x, y=y, ax=axs[3, 0])\n",
    "axs[2, 1].set_title(f'Count {y} by {x} in train dataframe')\n",
    "\n",
    "x = \"ind_nuevo\"\n",
    "y = \"ncodpers\"\n",
    "stat = [\"count\"]\n",
    "agg_df = pd.DataFrame(df.groupby(by=x).agg({y: \"count\"}).reset_index())\n",
    "sns.barplot(data=agg_df, x=x, y=y, ax=axs[3, 1])\n",
    "axs[2, 1].set_title(f'Count {y} by {x} in train dataframe')\n",
    "\n",
    "x = \"canal_entrada\"\n",
    "y = \"ncodpers\"\n",
    "stat = [\"count\"]\n",
    "agg_df = pd.DataFrame(df.groupby(by=x).agg({y: \"count\"}).reset_index())\n",
    "sns.barplot(data=agg_df, x=x, y=y, ax=axs[4, 0])\n",
    "axs[2, 1].set_title(f'Count {y} by {x} in train dataframe')\n",
    "\n",
    "x = \"cod_prov\"\n",
    "y = \"ncodpers\"\n",
    "stat = [\"count\"]\n",
    "agg_df = pd.DataFrame(df.groupby(by=x).agg({y: \"count\"}).reset_index())\n",
    "sns.barplot(data=agg_df, x=x, y=y, ax=axs[4, 1])\n",
    "axs[2, 1].set_title(f'Count {y} by {x} in train dataframe')\n",
    "\n",
    "x = \"segmento\"\n",
    "y = \"ncodpers\"\n",
    "stat = [\"count\"]\n",
    "agg_df = pd.DataFrame(df.groupby(by=x).agg({y: \"count\"}).reset_index())\n",
    "sns.barplot(data=agg_df, x=x, y=y, ax=axs[5, 0])\n",
    "axs[2, 1].set_title(f'Count {y} by {x} in train dataframe')\n",
    "\n",
    "x = \"nomprov\"\n",
    "y = \"ncodpers\"\n",
    "stat = [\"count\"]\n",
    "agg_df = pd.DataFrame(df.groupby(by=x).agg({y: \"count\"}).reset_index())\n",
    "sns.barplot(data=agg_df, x=x, y=y, ax=axs[5, 1])\n",
    "axs[2, 1].set_title(f'Count {y} by {x} in train dataframe')\n",
    "\n",
    "plt.savefig(os.path.join(ASSETS, 'cat_features_1'))"
   ]
  },
  {
   "cell_type": "markdown",
   "id": "ae08b3f2-30ff-4b2a-aaef-ed1dc18cc887",
   "metadata": {},
   "source": [
    "### Исправление значений данных в категориальных переменных"
   ]
  },
  {
   "cell_type": "code",
   "execution_count": 11,
   "id": "bf3ff830-5bb9-4058-8579-8923cf856d59",
   "metadata": {},
   "outputs": [
    {
     "data": {
      "text/plain": [
       "array(['S', '', 'N'], dtype=object)"
      ]
     },
     "execution_count": 11,
     "metadata": {},
     "output_type": "execute_result"
    }
   ],
   "source": [
    "df['indresi'].unique()"
   ]
  },
  {
   "cell_type": "code",
   "execution_count": 12,
   "id": "0274a62f-e79c-45dc-820a-fec5dc079c7d",
   "metadata": {},
   "outputs": [],
   "source": [
    "df['indresi'] = df['indresi'].replace({'S': True, 'N':False})"
   ]
  },
  {
   "cell_type": "code",
   "execution_count": 13,
   "id": "7b89cbbe-94e9-40f0-a796-da599bd097fc",
   "metadata": {},
   "outputs": [
    {
     "data": {
      "text/plain": [
       "array(['', 'N', 'S'], dtype=object)"
      ]
     },
     "execution_count": 13,
     "metadata": {},
     "output_type": "execute_result"
    }
   ],
   "source": [
    "df['conyuemp'].unique()"
   ]
  },
  {
   "cell_type": "code",
   "execution_count": 14,
   "id": "e7c74b2e-53ad-4d39-b378-175be5443c72",
   "metadata": {},
   "outputs": [],
   "source": [
    "df['conyuemp'] = df['conyuemp'].replace({'S': True, 'N':False})"
   ]
  },
  {
   "cell_type": "code",
   "execution_count": 15,
   "id": "72c1d22c-4965-4fdc-bfde-84d28e02cea9",
   "metadata": {},
   "outputs": [
    {
     "data": {
      "text/plain": [
       "array(['1.0', '1', '', '3.0', '3', '2', '2.0', '4.0', 'P', '4'],\n",
       "      dtype=object)"
      ]
     },
     "execution_count": 15,
     "metadata": {},
     "output_type": "execute_result"
    }
   ],
   "source": [
    "df['indrel_1mes'].unique()"
   ]
  },
  {
   "cell_type": "code",
   "execution_count": 16,
   "id": "8201d11e-3a10-4025-a1e5-909e7ed92c57",
   "metadata": {},
   "outputs": [],
   "source": [
    "df['indrel_1mes'] = df['indrel_1mes'].replace({'1.0': '1', '3.0':'3', '2.0':'2', '4.0':'4'})"
   ]
  },
  {
   "cell_type": "code",
   "execution_count": 17,
   "id": "bb9866f5-ded8-4d3f-b1bd-af5bc8d58402",
   "metadata": {},
   "outputs": [
    {
     "data": {
      "text/plain": [
       "array(['N', '', 'S'], dtype=object)"
      ]
     },
     "execution_count": 17,
     "metadata": {},
     "output_type": "execute_result"
    }
   ],
   "source": [
    "df['indfall'].unique()"
   ]
  },
  {
   "cell_type": "code",
   "execution_count": 18,
   "id": "bd22cc24-f0b4-4c6e-bd6d-66310bed37c4",
   "metadata": {},
   "outputs": [],
   "source": [
    "df['indfall'] = df['indfall'].replace({'S': True, 'N':False})"
   ]
  },
  {
   "cell_type": "code",
   "execution_count": 19,
   "id": "54d5aff2-14c4-417f-a9f0-df21cda27019",
   "metadata": {},
   "outputs": [
    {
     "data": {
      "text/plain": [
       "array([' 1', ' 0', 'NA'], dtype=object)"
      ]
     },
     "execution_count": 19,
     "metadata": {},
     "output_type": "execute_result"
    }
   ],
   "source": [
    "df['ind_actividad_cliente'].unique()"
   ]
  },
  {
   "cell_type": "code",
   "execution_count": 20,
   "id": "842d1428-dfd8-4ebc-87c7-5ca4db522cb4",
   "metadata": {},
   "outputs": [],
   "source": [
    "df['ind_actividad_cliente'] = df['ind_actividad_cliente'].replace({' 1': True, ' 0':False})"
   ]
  },
  {
   "cell_type": "code",
   "execution_count": 21,
   "id": "8cb50f46-f159-46a9-92ff-c78770cec1fb",
   "metadata": {},
   "outputs": [
    {
     "data": {
      "text/plain": [
       "array([' 0', 'NA', ' 1'], dtype=object)"
      ]
     },
     "execution_count": 21,
     "metadata": {},
     "output_type": "execute_result"
    }
   ],
   "source": [
    "df['ind_nuevo'].unique()"
   ]
  },
  {
   "cell_type": "code",
   "execution_count": 22,
   "id": "5f9a8419-0198-47ce-9cf7-cdbe514426a1",
   "metadata": {},
   "outputs": [],
   "source": [
    "df['ind_nuevo'] = df['ind_nuevo'].replace({' 1': True, ' 0':False})"
   ]
  },
  {
   "cell_type": "code",
   "execution_count": 23,
   "id": "2c59746b-6f65-46f6-9243-7cf1011ee846",
   "metadata": {},
   "outputs": [
    {
     "data": {
      "text/plain": [
       "array(['N', '', 'A', 'B', 'F', 'S'], dtype=object)"
      ]
     },
     "execution_count": 23,
     "metadata": {},
     "output_type": "execute_result"
    }
   ],
   "source": [
    "df['ind_empleado'].unique()"
   ]
  },
  {
   "cell_type": "code",
   "execution_count": 24,
   "id": "b5ceb9bb-de0f-4b2d-b43c-fcbd51a209b7",
   "metadata": {},
   "outputs": [
    {
     "data": {
      "text/plain": [
       "array([False, 'NA', True], dtype=object)"
      ]
     },
     "execution_count": 24,
     "metadata": {},
     "output_type": "execute_result"
    }
   ],
   "source": [
    "df['ind_nuevo'].unique()"
   ]
  },
  {
   "cell_type": "code",
   "execution_count": 25,
   "id": "237656ea-f6a9-4a0f-8f61-1bb31a543903",
   "metadata": {},
   "outputs": [],
   "source": [
    "df = df.replace(['', 'NA'], np.nan)"
   ]
  },
  {
   "cell_type": "code",
   "execution_count": 26,
   "id": "29aa714b-695a-4f0b-8a95-7e46a9128cc0",
   "metadata": {},
   "outputs": [],
   "source": [
    "df.to_parquet('./data/df.parquet')"
   ]
  },
  {
   "cell_type": "code",
   "execution_count": 6,
   "id": "a6eba81d-1a51-49e6-ae6a-da5790c37731",
   "metadata": {},
   "outputs": [],
   "source": [
    "df = pd.read_parquet('./data/df.parquet')"
   ]
  },
  {
   "cell_type": "markdown",
   "id": "ad7294f5-0c14-4f12-98f9-57e0a5a04722",
   "metadata": {},
   "source": [
    "### Исправление значений целевых пременных"
   ]
  },
  {
   "cell_type": "code",
   "execution_count": 8,
   "id": "a0a3ddb9-44ad-4178-92a4-a3872d405c09",
   "metadata": {},
   "outputs": [],
   "source": [
    "df.loc[:, ['age', 'renta', 'cod_prov', 'antiguedad']\n",
    "] = df[['age', 'renta', 'cod_prov', 'antiguedad']\n",
    "].apply(pd.to_numeric, errors='coerce')"
   ]
  },
  {
   "cell_type": "code",
   "execution_count": 9,
   "id": "6acca3a4-a9f3-4585-8f7e-508edbc21ba4",
   "metadata": {},
   "outputs": [],
   "source": [
    "target_col = df.columns[24:49]"
   ]
  },
  {
   "cell_type": "code",
   "execution_count": 10,
   "id": "5149c330-e5c7-46b1-bc9c-90e90eb2084d",
   "metadata": {},
   "outputs": [
    {
     "data": {
      "text/plain": [
       "ind_ahor_fin_ult1            [0, 1]\n",
       "ind_aval_fin_ult1            [0, 1]\n",
       "ind_cco_fin_ult1             [1, 0]\n",
       "ind_cder_fin_ult1            [0, 1]\n",
       "ind_cno_fin_ult1             [0, 1]\n",
       "ind_ctju_fin_ult1            [0, 1]\n",
       "ind_ctma_fin_ult1            [0, 1]\n",
       "ind_ctop_fin_ult1            [0, 1]\n",
       "ind_ctpp_fin_ult1            [0, 1]\n",
       "ind_deco_fin_ult1            [0, 1]\n",
       "ind_deme_fin_ult1            [0, 1]\n",
       "ind_dela_fin_ult1            [0, 1]\n",
       "ind_ecue_fin_ult1            [0, 1]\n",
       "ind_fond_fin_ult1            [0, 1]\n",
       "ind_hip_fin_ult1             [0, 1]\n",
       "ind_plan_fin_ult1            [0, 1]\n",
       "ind_pres_fin_ult1            [0, 1]\n",
       "ind_reca_fin_ult1            [0, 1]\n",
       "ind_tjcr_fin_ult1            [0, 1]\n",
       "ind_valo_fin_ult1            [0, 1]\n",
       "ind_viv_fin_ult1             [0, 1]\n",
       "ind_nomina_ult1      [ 0,  1, None]\n",
       "ind_nom_pens_ult1    [ 0,  1, None]\n",
       "ind_recibo_ult1              [0, 1]\n",
       "dtype: object"
      ]
     },
     "execution_count": 10,
     "metadata": {},
     "output_type": "execute_result"
    }
   ],
   "source": [
    "df.loc[:, target_col].apply(lambda x: x.unique())"
   ]
  },
  {
   "cell_type": "code",
   "execution_count": 11,
   "id": "2cf00fa7-912c-416a-b5d1-493e68004d8f",
   "metadata": {},
   "outputs": [],
   "source": [
    "df = df[~df['ind_nomina_ult1'].isna()]"
   ]
  },
  {
   "cell_type": "code",
   "execution_count": 12,
   "id": "b6209345-e752-4482-8dfe-f23fcfdc4a64",
   "metadata": {},
   "outputs": [],
   "source": [
    "df = df[~df['ind_nom_pens_ult1'].isna()]"
   ]
  },
  {
   "cell_type": "code",
   "execution_count": null,
   "id": "301110f9-4e9d-4eaa-acf3-c0532c29b520",
   "metadata": {},
   "outputs": [],
   "source": [
    "# Найдем наиболее популярные продукты\n",
    "df[df.columns[24:49]].mean().sort_values(ascending=False)"
   ]
  },
  {
   "cell_type": "code",
   "execution_count": null,
   "id": "c336c06b-5a40-4102-8d15-84f0fc1c1208",
   "metadata": {},
   "outputs": [],
   "source": [
    "df['ind_nomina_ult1'].unique()"
   ]
  },
  {
   "cell_type": "code",
   "execution_count": null,
   "id": "bc59ce10-97ef-4737-9207-702ce81b6f14",
   "metadata": {},
   "outputs": [],
   "source": [
    "# Указание типов данных для столбцов\n",
    "dtype_dict = {\n",
    "    'fecha_dato': 'datetime64[ns]',\n",
    "    'ncodpers': 'int',\n",
    "    'ind_empleado': 'category',\n",
    "    'pais_residencia': 'category',\n",
    "    'sexo': 'category',\n",
    "    'age': 'int',\n",
    "    'fecha_alta': 'datetime64[ns]',\n",
    "    'ind_nuevo': 'bool',\n",
    "    'antiguedad': 'int',\n",
    "    'indrel': 'str',\n",
    "    'ult_fec_cli_1t': 'datetime64[ns]',\n",
    "    'indrel_1mes': 'category',\n",
    "    'tiprel_1mes': 'category',\n",
    "    'indresi': 'bool',\n",
    "    'indext': 'bool',\n",
    "    'conyuemp': 'bool',\n",
    "    'canal_entrada': 'category',\n",
    "    'indfall': 'bool',\n",
    "    'tipodom': 'category',\n",
    "    'cod_prov': 'category',\n",
    "    'nomprov': 'category',\n",
    "    'ind_actividad_cliente': 'bool',\n",
    "    'renta': 'float',\n",
    "    'segmento': 'category',\n",
    "    'ind_ahor_fin_ult1': 'bool',\n",
    "    'ind_aval_fin_ult1': 'bool',\n",
    "    'ind_cco_fin_ult1': 'bool',\n",
    "    'ind_cder_fin_ult1': 'bool',\n",
    "    'ind_cno_fin_ult1': 'bool',\n",
    "    'ind_ctju_fin_ult1': 'bool',\n",
    "    'ind_ctma_fin_ult1': 'bool',\n",
    "    'ind_ctop_fin_ult1': 'bool',\n",
    "    'ind_ctpp_fin_ult1': 'bool',\n",
    "    'ind_deco_fin_ult1': 'bool',\n",
    "    'ind_deme_fin_ult1': 'bool',\n",
    "    'ind_dela_fin_ult1': 'bool',\n",
    "    'ind_ecue_fin_ult1': 'bool',\n",
    "    'ind_fond_fin_ult1': 'bool',\n",
    "    'ind_hip_fin_ult1': 'bool',\n",
    "    'ind_plan_fin_ult1': 'bool',\n",
    "    'ind_pres_fin_ult1': 'bool',\n",
    "    'ind_reca_fin_ult1': 'bool',\n",
    "    'ind_tjcr_fin_ult1': 'bool',\n",
    "    'ind_valo_fin_ult1': 'bool',\n",
    "    'ind_viv_fin_ult1': 'bool',\n",
    "    'ind_nomina_ult1': 'bool',\n",
    "    'ind_nom_pens_ult1': 'bool',\n",
    "    'ind_recibo_ult1': 'bool',\n",
    "}"
   ]
  },
  {
   "cell_type": "code",
   "execution_count": null,
   "id": "45a9b65b-671e-45b3-9a4f-01efa4f88680",
   "metadata": {},
   "outputs": [],
   "source": [
    "# Проверим наличие дубликатов\n",
    "df[df.columns[0:24]].duplicated().any()"
   ]
  },
  {
   "cell_type": "code",
   "execution_count": null,
   "id": "f3629be4-bdf5-4090-a644-ab7b66d53321",
   "metadata": {},
   "outputs": [],
   "source": [
    "df.duplicated().mean()"
   ]
  },
  {
   "cell_type": "code",
   "execution_count": null,
   "id": "11c718c4-6fa2-4f47-80ee-783fc2a59b13",
   "metadata": {},
   "outputs": [],
   "source": [
    "df[df['ind_empleado']=='P']"
   ]
  },
  {
   "cell_type": "code",
   "execution_count": null,
   "id": "52dc2e3f-7811-4d9c-9359-5af0577abf99",
   "metadata": {},
   "outputs": [],
   "source": [
    "df = df[~df['age'].isna()]"
   ]
  },
  {
   "cell_type": "code",
   "execution_count": null,
   "id": "42c28766-0eb6-4c8e-bd25-3f2f6ff801e4",
   "metadata": {},
   "outputs": [],
   "source": [
    "df = df[~df['cod_prov'].isna()]"
   ]
  },
  {
   "cell_type": "code",
   "execution_count": null,
   "id": "99627df1-3033-4fda-8cd3-b14289e4b2a5",
   "metadata": {},
   "outputs": [],
   "source": [
    "df = df[~df['sexo'].isna()]"
   ]
  },
  {
   "cell_type": "code",
   "execution_count": null,
   "id": "e69c06a5-3b68-4ee0-b463-2b1baf839d26",
   "metadata": {},
   "outputs": [],
   "source": [
    "df = df[~df['canal_entrada'].isna()]"
   ]
  },
  {
   "cell_type": "code",
   "execution_count": null,
   "id": "3825da3f-fb2f-440f-906a-93407b4742f3",
   "metadata": {},
   "outputs": [],
   "source": [
    "df = df[~df['segmento'].isna()]"
   ]
  },
  {
   "cell_type": "code",
   "execution_count": null,
   "id": "587cad6b-992d-4fad-b71c-ef6bf56879d1",
   "metadata": {},
   "outputs": [],
   "source": [
    "df['ind_hip_fin_ult1'].unique()"
   ]
  },
  {
   "cell_type": "code",
   "execution_count": null,
   "id": "ded6b9a5-b588-425a-85ba-5ff526e774a7",
   "metadata": {},
   "outputs": [],
   "source": [
    "df.sample()"
   ]
  },
  {
   "cell_type": "code",
   "execution_count": null,
   "id": "7179966d-eaaf-4ea3-a7c6-870fa9d2b8c9",
   "metadata": {},
   "outputs": [],
   "source": [
    "df_pivot = df.pivot_table(columns='sexo', index='ncodpers', values='age', aggfunc='median')\n",
    "df_pivot"
   ]
  },
  {
   "cell_type": "code",
   "execution_count": null,
   "id": "dc68a31f-a4a5-452e-9710-9902e601e453",
   "metadata": {},
   "outputs": [],
   "source": [
    "df = df.astype(dtype_dict)"
   ]
  },
  {
   "cell_type": "code",
   "execution_count": null,
   "id": "6db4fc74-76df-40d7-b92b-4977bf9514b4",
   "metadata": {},
   "outputs": [],
   "source": [
    "df.info()"
   ]
  },
  {
   "cell_type": "code",
   "execution_count": null,
   "id": "b8b9317b-d02f-49da-bf40-1a9087d7bb15",
   "metadata": {},
   "outputs": [],
   "source": [
    "df['sexo'].unique()"
   ]
  },
  {
   "cell_type": "code",
   "execution_count": null,
   "id": "f056efed-79cc-4ac0-b94b-8609f701bbdb",
   "metadata": {},
   "outputs": [],
   "source": [
    "df.describe()"
   ]
  },
  {
   "cell_type": "code",
   "execution_count": null,
   "id": "7ced6fb2-ab33-4d77-98b1-1d69f6bf3a04",
   "metadata": {},
   "outputs": [],
   "source": [
    "plt.hist(df[df['sexo']=='H']['age']\n",
    "         , bins=10, alpha=0.5, label='Распределение мужчин')\n",
    "plt.hist(df[df['sexo']=='V']['age']\n",
    "         , bins=10, alpha=0.5, label='Распределение женщин')\n",
    "plt.legend(loc='upper right')\n",
    "plt.xlabel('Возраст', fontsize=12)\n",
    "plt.title('Распредление возраста для пола клиентов', fontsize=14)\n",
    "plt.savefig(os.path.join(ASSETS, 'age_by_sex_of_clients'))\n",
    "plt.show()"
   ]
  },
  {
   "cell_type": "code",
   "execution_count": null,
   "id": "6fb89ba0-5c9a-4662-b0e2-0de59e9db2d5",
   "metadata": {
    "scrolled": true
   },
   "outputs": [],
   "source": [
    "plt.hist(df[df['ind_empleado']=='A']['renta']\n",
    "         , bins=20, alpha=0.5, label='Работающие')\n",
    "plt.hist(df[df['ind_empleado']=='B']['renta']\n",
    "         , bins=20, alpha=0.5, label='Раньше работал')\n",
    "plt.hist(df[df['ind_empleado']=='F']['renta']\n",
    "         , bins=20, alpha=0.5, label='Иждивенец')\n",
    "plt.hist(df[df['ind_empleado']=='P']['renta']\n",
    "         , bins=20, alpha=0.5, label='Пассивный (статус не определён)')\n",
    "plt.legend(loc='upper right')\n",
    "plt.xlabel('Доход', fontsize=12)\n",
    "plt.title('Распредление доходов для формы занятости клиентов', fontsize=14)\n",
    "plt.savefig(os.path.join(ASSETS, 'income_by_empl_clients'))\n",
    "plt.show()\n",
    "\n",
    "plt.hist(df[df['ind_empleado']=='N']['renta']\n",
    "         , bins=20, alpha=0.5, label='Безработный')\n",
    "plt.legend(loc='upper right')\n",
    "plt.xlabel('Доход', fontsize=12)\n",
    "plt.title('Распредление доходов для формы занятости клиентов', fontsize=14)\n",
    "plt.show()\n"
   ]
  },
  {
   "cell_type": "code",
   "execution_count": null,
   "id": "6129408e-14c4-4544-9b5e-0f506e65eddb",
   "metadata": {},
   "outputs": [],
   "source": [
    "numeric_col = ['age', 'antiguedad', 'renta']"
   ]
  },
  {
   "cell_type": "code",
   "execution_count": null,
   "id": "264ce51a-76b4-4f53-b93e-c34409bf14f8",
   "metadata": {},
   "outputs": [],
   "source": [
    "def outliers(data, num_cols):\n",
    "    for column in num_cols:\n",
    "        boxplot = plt.boxplot(df[column].values)\n",
    "        plt.title(\"Диаграмма размаха для \" + column)\n",
    "        plt.savefig(os.path.join(ASSETS, 'boxplot' + column))\n",
    "        plt.show()\n",
    "        outliers = list(boxplot[\"fliers\"][0].get_data()[1])\n",
    "        outlier = df[df[column].isin(outliers)]\n",
    "        print(\"Количество аномалий: \", len(outlier))"
   ]
  },
  {
   "cell_type": "code",
   "execution_count": null,
   "id": "99a453a7-573e-48e2-a84a-f447d2773002",
   "metadata": {},
   "outputs": [],
   "source": [
    "outliers(df, numeric_col)"
   ]
  },
  {
   "cell_type": "code",
   "execution_count": null,
   "id": "9ad9b9be-46b0-480c-9f0b-ea51c6e063c4",
   "metadata": {},
   "outputs": [],
   "source": [
    "df.boxplot(column = 'renta')"
   ]
  },
  {
   "cell_type": "code",
   "execution_count": null,
   "id": "1b791c97-a360-4c34-8dcd-a6948134b83d",
   "metadata": {},
   "outputs": [],
   "source": [
    "def outliers_filter(data, num_cols, threshold):\n",
    "    '''Функция выделяет индексы объектов с выбросами\n",
    "    по заданным признакам и threshold'''\n",
    "    potential_outliers = pd.DataFrame()\n",
    "    for col in num_cols:\n",
    "        Q1 = data[col].quantile(0.25)\n",
    "        Q3 = data[col].quantile(0.75)\n",
    "        IQR = Q3-Q1\n",
    "        margin = threshold*IQR\n",
    "        lower = Q1 - margin\n",
    "        upper = Q3 + margin \n",
    "        potential_outliers[col] = ~data[col].between(lower, upper)\n",
    "        outliers = potential_outliers.any(axis=1)        \n",
    "    return outliers"
   ]
  },
  {
   "cell_type": "code",
   "execution_count": null,
   "id": "9e88d298-6e24-4704-821a-c5b5f13b744b",
   "metadata": {},
   "outputs": [],
   "source": [
    "df = df[~outliers_filter(df, numeric_col, 1.5)]"
   ]
  },
  {
   "cell_type": "code",
   "execution_count": null,
   "id": "2dae6a07-8dec-4a19-9c1b-d602f43b48d1",
   "metadata": {},
   "outputs": [],
   "source": [
    "outliers(df, numeric_col)"
   ]
  },
  {
   "cell_type": "code",
   "execution_count": null,
   "id": "0469a0f8-9ace-44ff-b078-6a29fb327c9e",
   "metadata": {},
   "outputs": [],
   "source": [
    "df[df['renta'].isna()]"
   ]
  },
  {
   "cell_type": "code",
   "execution_count": null,
   "id": "98d49922-8bd2-4144-93ce-26f7ed47310d",
   "metadata": {},
   "outputs": [],
   "source": [
    "df['ncodpers'].nunique()"
   ]
  },
  {
   "cell_type": "code",
   "execution_count": null,
   "id": "86c427c5-4917-490a-ae37-ec74edeb5d5d",
   "metadata": {},
   "outputs": [],
   "source": [
    "df"
   ]
  },
  {
   "cell_type": "code",
   "execution_count": null,
   "id": "59783676-08c8-4d75-a071-26cb4266ae06",
   "metadata": {},
   "outputs": [],
   "source": [
    "df['ind_empleado'].unique()"
   ]
  },
  {
   "cell_type": "code",
   "execution_count": null,
   "id": "b6b7c818-c061-45a4-9ae5-9655e9e3b0f8",
   "metadata": {},
   "outputs": [],
   "source": [
    "plt.hist(df[df['ind_empleado']=='A']['renta']\n",
    "         , bins=20, alpha=0.5, label='Работающие')\n",
    "plt.hist(df[df['ind_empleado']=='B']['renta']\n",
    "         , bins=20, alpha=0.5, label='Раньше работал')\n",
    "plt.hist(df[df['ind_empleado']=='F']['renta']\n",
    "         , bins=20, alpha=0.5, label='Иждивенец')\n",
    "plt.hist(df[df['ind_empleado']=='P']['renta']\n",
    "         , bins=20, alpha=0.5, label='Пассивный (статус не определён)')\n",
    "plt.legend(loc='upper right')\n",
    "plt.xlabel('Доход', fontsize=12)\n",
    "plt.title('Распредление дохода для различных типов клиента', fontsize=14)\n",
    "plt.savefig(os.path.join(ASSETS, 'income_by_client_type'))\n",
    "plt.show()\n",
    "\n",
    "plt.hist(df[df['ind_empleado']=='N']['renta']\n",
    "         , bins=20, alpha=0.5, label='Безработный')\n",
    "plt.legend(loc='upper right')\n",
    "plt.xlabel('Доход', fontsize=12)"
   ]
  },
  {
   "cell_type": "code",
   "execution_count": null,
   "id": "8f3a75e0-338c-480e-988c-1e81d3b110c7",
   "metadata": {},
   "outputs": [],
   "source": [
    "df[df['segmento']=='01 - TOP']['renta'].hist(bins=100, alpha=0.5, label='VIP')\n",
    "plt.legend(loc='upper right')\n",
    "plt.xlabel('Доход', fontsize=12)\n",
    "plt.title('Распредление дохода для VIP', fontsize=14)\n",
    "plt.savefig(os.path.join(ASSETS, 'income_by_vip_clients'))\n",
    "plt.show()"
   ]
  },
  {
   "cell_type": "code",
   "execution_count": null,
   "id": "48c8d965-9bd4-40eb-9193-7a405a5822ce",
   "metadata": {},
   "outputs": [],
   "source": [
    "df[df['segmento']=='03 - UNIVERSITARIO']['renta'].hist(\n",
    "    bins=100, alpha=0.5, label='Выпускники колледжей')\n",
    "df[df['segmento']=='02 - PARTICULARES']['renta'].hist(\n",
    "    bins=100, alpha=0.5, label='Обыкновенные')\n",
    "plt.legend(loc='upper right')\n",
    "plt.xlabel('Доход', fontsize=12)\n",
    "plt.title('Распредление дохода для выпускников колледжа и обычных клиентов', fontsize=14)\n",
    "plt.savefig(os.path.join(ASSETS, 'income_by_colledge_client'))\n",
    "plt.show()"
   ]
  },
  {
   "cell_type": "code",
   "execution_count": null,
   "id": "6d17f994-dc9d-4c39-b368-d8164e59d87f",
   "metadata": {},
   "outputs": [],
   "source": [
    "df['canal_entrada'].unique()"
   ]
  },
  {
   "cell_type": "code",
   "execution_count": null,
   "id": "2d33af3b-3b4b-4b0e-9805-ed14b50568cc",
   "metadata": {},
   "outputs": [],
   "source": [
    "df['segmento'].unique()"
   ]
  },
  {
   "cell_type": "code",
   "execution_count": null,
   "id": "df5cff51-499a-4cdd-8e07-41964c815f62",
   "metadata": {},
   "outputs": [],
   "source": [
    "df['ind_actividad_cliente'].mean()"
   ]
  },
  {
   "cell_type": "code",
   "execution_count": null,
   "id": "e8659bb9-5075-45ec-ad9b-e9c223c4ac2e",
   "metadata": {},
   "outputs": [],
   "source": [
    "df[df['ind_nuevo']]['fecha_alta'].hist(bins=100, alpha=0.5)\n",
    "df[~df['ind_nuevo']]['fecha_alta'].hist(bins=100, alpha=0.5)"
   ]
  },
  {
   "cell_type": "code",
   "execution_count": null,
   "id": "b0174ed3-356f-47cc-b90c-3bb46b75c357",
   "metadata": {},
   "outputs": [],
   "source": [
    "RUN_NAME = \"eda\""
   ]
  },
  {
   "cell_type": "code",
   "execution_count": null,
   "id": "cec7ecca-fdb1-4bdd-9747-9414afb03588",
   "metadata": {},
   "outputs": [],
   "source": [
    "with mlflow.start_run(run_name=RUN_NAME, experiment_id=experiment_id.experiment_id) as run:\n",
    "    run_id = run.info.run_id\n",
    "\n",
    "    mlflow.log_artifacts(ASSETS)"
   ]
  },
  {
   "cell_type": "code",
   "execution_count": null,
   "id": "b33a1775-5269-4430-970e-2dc9ef998f29",
   "metadata": {},
   "outputs": [],
   "source": [
    "# Оценим количество продуктов банка\n",
    "df[df.columns[24:49]].mean().sort_values(ascending=False)"
   ]
  },
  {
   "cell_type": "code",
   "execution_count": null,
   "id": "656b0223-8b88-4bff-aee8-fe66db629495",
   "metadata": {},
   "outputs": [],
   "source": [
    "new_clients = df[df['ind_nuevo']==True]"
   ]
  },
  {
   "cell_type": "code",
   "execution_count": null,
   "id": "674e7ff7-291b-4e8d-81df-37a3b0af4cdc",
   "metadata": {},
   "outputs": [],
   "source": [
    "new_clients"
   ]
  },
  {
   "cell_type": "code",
   "execution_count": null,
   "id": "127c9837-5b73-42af-a06a-21c1cc6b5c30",
   "metadata": {},
   "outputs": [],
   "source": [
    "target_col"
   ]
  },
  {
   "cell_type": "code",
   "execution_count": null,
   "id": "48e2b691-8e86-4dc5-9564-4ed86b11bcef",
   "metadata": {},
   "outputs": [],
   "source": [
    "data = df[df['ind_actividad_cliente']].copy()"
   ]
  },
  {
   "cell_type": "code",
   "execution_count": null,
   "id": "f569d5f7-cae7-471c-904a-c7b3b80ad69e",
   "metadata": {},
   "outputs": [],
   "source": [
    "data"
   ]
  },
  {
   "cell_type": "code",
   "execution_count": null,
   "id": "2884b4da-e030-4210-a857-639221807abe",
   "metadata": {},
   "outputs": [],
   "source": [
    "data['ind_nuevo'].mean()"
   ]
  },
  {
   "cell_type": "code",
   "execution_count": null,
   "id": "15271dda-aac0-48d6-9f53-42188d537f10",
   "metadata": {},
   "outputs": [],
   "source": [
    "df['fecha_dato'].describe"
   ]
  },
  {
   "cell_type": "markdown",
   "id": "89b7c646-2943-4f55-9bbf-78229bfbdb55",
   "metadata": {},
   "source": [
    "# Преобразование и разбиение данных"
   ]
  },
  {
   "cell_type": "code",
   "execution_count": null,
   "id": "16a6a364-31d5-49f4-89b6-131326645791",
   "metadata": {},
   "outputs": [],
   "source": [
    "df['fecha_dato'].unique()"
   ]
  },
  {
   "cell_type": "code",
   "execution_count": null,
   "id": "dacecbf0-c371-486a-84e5-4be50f60766d",
   "metadata": {},
   "outputs": [],
   "source": [
    "events = df.rename(columns={'ncodpers': 'user_id'}).copy()"
   ]
  },
  {
   "cell_type": "code",
   "execution_count": null,
   "id": "efd254fb-88d6-444f-89b7-1e7d187543ca",
   "metadata": {},
   "outputs": [],
   "source": [
    "events.replace(np.nan, 'NaN', inplace=True)"
   ]
  },
  {
   "cell_type": "code",
   "execution_count": null,
   "id": "65e1cd1a-f5ba-449a-bf36-4b7092cd7410",
   "metadata": {},
   "outputs": [],
   "source": [
    "def train_test_split(data, train_test_global_time_split_date):\n",
    "    \n",
    "    train_test_global_time_split_idx = df[\"fecha_dato\"]==train_test_global_time_split_date\n",
    "    events_train = data[train_test_global_time_split_idx]\n",
    "    events_test = data[~train_test_global_time_split_idx]\n",
    "    \n",
    "    # количество пользователей в train и test\n",
    "    users_train = events_train[\"user_id\"].drop_duplicates()\n",
    "    users_test = events_test[\"user_id\"].drop_duplicates()\n",
    "    # количество пользователей, которые есть и в train, и в test\n",
    "    common_users = set(users_test).intersection(set(users_train))\n",
    "    \n",
    "    print(len(users_train), len(users_test), len(common_users))\n",
    "    return events_train, events_test, users_train, users_test, common_users"
   ]
  },
  {
   "cell_type": "code",
   "execution_count": null,
   "id": "2b1f489e-d7f6-44ac-9b0d-3f48127fcf80",
   "metadata": {},
   "outputs": [],
   "source": [
    "events_train, events_test, users_train, users_test, common_users = train_test_split(\n",
    "    events, '2015-05-28 00:00:00'\n",
    ")"
   ]
  },
  {
   "cell_type": "code",
   "execution_count": null,
   "id": "2b9dc57c-f871-4ee1-9273-b28175230dbe",
   "metadata": {},
   "outputs": [],
   "source": []
  },
  {
   "cell_type": "code",
   "execution_count": null,
   "id": "3c44216c-d60e-47fd-b61b-fa475f4bee32",
   "metadata": {},
   "outputs": [],
   "source": [
    "# Количество ячеек в матрице\n",
    "all_cells = events_train['user_id'].nunique()*len(df.columns[24:49])\n",
    "all_cells"
   ]
  },
  {
   "cell_type": "code",
   "execution_count": null,
   "id": "6e7f6a23-109b-437d-8067-b821ad1f6364",
   "metadata": {},
   "outputs": [],
   "source": [
    "# Степень разреженности матрицы\n",
    "(all_cells-len(events_train))/all_cells"
   ]
  },
  {
   "cell_type": "code",
   "execution_count": null,
   "id": "7a4b2316-36ca-4686-819d-dd9012cbc540",
   "metadata": {},
   "outputs": [],
   "source": [
    "# Кодирование user_id\n",
    "user_encoder = sklearn.preprocessing.LabelEncoder()\n",
    "user_encoder.fit(events[\"user_id\"])\n",
    "# Преобразование user_id в числовые значения\n",
    "user_id_train = user_encoder.transform(events_train['user_id'])\n",
    "user_id_test = user_encoder.transform(events_test['user_id'])\n",
    "# Чтобы убрать предупреждение используем .loc для сохранения значений\n",
    "events_train.loc[:, 'user_id_enc'] = user_id_train\n",
    "events_test.loc[:, 'user_id_enc'] = user_id_test"
   ]
  },
  {
   "cell_type": "code",
   "execution_count": null,
   "id": "02574a2b-1f5c-45f9-a318-a14ff24b192b",
   "metadata": {},
   "outputs": [],
   "source": [
    "# перекодируем идентификаторы объектов: \n",
    "# из имеющихся в последовательность 0, 1, 2, ...\n",
    "item_encoder = sklearn.preprocessing.LabelEncoder()\n",
    "item_encoder.fit(target_col)\n",
    "target_col_enc = item_encoder.transform(target_col)\n",
    "# Переименование столбцов\n",
    "events_train = events_train.rename(columns=dict(zip(target_col, target_col_enc)))\n",
    "events_train = events_test.rename(columns=dict(zip(target_col, target_col_enc)))"
   ]
  },
  {
   "cell_type": "code",
   "execution_count": null,
   "id": "88f0b349-13bc-4093-ba7a-80e77033f744",
   "metadata": {},
   "outputs": [],
   "source": [
    "with open('../models/user_encoder.pkl', 'wb') as file:\n",
    "    pickle.dump(user_encoder, file)\n",
    "with open('../models/item_encoder.pkl', 'wb') as file:\n",
    "    pickle.dump(item_encoder, file)"
   ]
  },
  {
   "cell_type": "code",
   "execution_count": null,
   "id": "7baab0bf-4027-42fe-adb5-b8754bca1e22",
   "metadata": {},
   "outputs": [],
   "source": [
    "events_train = events_train[events_train.columns[24:49]].groupby(by='user_id_enc').mean()\n",
    "events_train"
   ]
  },
  {
   "cell_type": "code",
   "execution_count": null,
   "id": "6cfc0caa-a349-4cbd-aacf-f7a6f5b5a9fa",
   "metadata": {},
   "outputs": [],
   "source": [
    "events_train.stack().reset_index()"
   ]
  },
  {
   "cell_type": "code",
   "execution_count": null,
   "id": "a5b2b189-2f6c-48de-83be-8a123152af22",
   "metadata": {},
   "outputs": [],
   "source": [
    "events_train = events_train.stack().reset_index()\n",
    "events_train.columns = [\"user_id_enc\", \"item_id_enc\", \"score\"]\n",
    "events_train = events_train[events_train[\"score\"]>0]\n",
    "events_train"
   ]
  },
  {
   "cell_type": "code",
   "execution_count": null,
   "id": "f978fd9d-b402-46ba-8796-3b2ff18ffe27",
   "metadata": {
    "scrolled": true
   },
   "outputs": [],
   "source": [
    "# создаём sparse-матрицу формата CSR \n",
    "user_item_matrix_train = scipy.sparse.csr_matrix((\n",
    "    events_train[\"score\"],\n",
    "    (events_train['user_id_enc'], events_train['item_id_enc'])),\n",
    "    dtype=np.int8)\n",
    "user_item_matrix_train.data"
   ]
  },
  {
   "cell_type": "code",
   "execution_count": null,
   "id": "cfc2cf91-8154-4175-8c33-4432662e2958",
   "metadata": {},
   "outputs": [],
   "source": [
    "sum([sys.getsizeof(i) for i in user_item_matrix_train.data])/1024**3 "
   ]
  },
  {
   "cell_type": "code",
   "execution_count": null,
   "id": "3f5a0ed5-62b7-4af9-ad68-89cfea41fe9e",
   "metadata": {},
   "outputs": [],
   "source": [
    "def get_recommendations_als(user_item_matrix, model, user_id, user_encoder, item_encoder, include_seen=True, n=5):\n",
    "    \"\"\"\n",
    "    Возвращает отранжированные рекомендции для заданного пользователя\n",
    "    \"\"\"\n",
    "    user_id_enc = user_encoder.transform([user_id])[0]\n",
    "    recommendations = model.recommend(\n",
    "         user_id_enc, \n",
    "         user_item_matrix[user_id_enc], \n",
    "         filter_already_liked_items=not include_seen,\n",
    "         N=n)\n",
    "    recommendations = pd.DataFrame({\"item_id_enc\": recommendations[0], \"score\": recommendations[1]})\n",
    "    recommendations[\"item_id\"] = item_encoder.inverse_transform(recommendations[\"item_id_enc\"])\n",
    "    \n",
    "    return recommendations"
   ]
  },
  {
   "cell_type": "code",
   "execution_count": null,
   "id": "2a8955ea-9679-47fa-9118-a3ca5b5b37db",
   "metadata": {},
   "outputs": [],
   "source": [
    "als_model = AlternatingLeastSquares(factors=50, iterations=50, regularization=0.05, random_state=RANDOM_STATE)\n",
    "als_model.fit(user_item_matrix_train) "
   ]
  },
  {
   "cell_type": "code",
   "execution_count": null,
   "id": "ad69ec7c-dd75-4f17-8e1d-03ebe3c43156",
   "metadata": {},
   "outputs": [],
   "source": [
    "user_ids_encoded = range(len(events_train['user_id_enc'].unique()))\n",
    "user_ids_encoded"
   ]
  },
  {
   "cell_type": "code",
   "execution_count": null,
   "id": "3731bc1d-2680-471e-8204-c7928ee51fb3",
   "metadata": {},
   "outputs": [],
   "source": [
    "user_item_matrix_train"
   ]
  },
  {
   "cell_type": "code",
   "execution_count": null,
   "id": "b7e00258-9b32-4386-b953-335c83b56816",
   "metadata": {},
   "outputs": [],
   "source": [
    "user_item_matrix_train[user_ids_encoded]"
   ]
  },
  {
   "cell_type": "code",
   "execution_count": null,
   "id": "7b582c0c-1c79-4b66-bcd6-5aa7cee39827",
   "metadata": {},
   "outputs": [],
   "source": [
    "get_recommendations_als(user_item_matrix_train, als_model, 1050617, user_encoder, item_encoder, False, 5)"
   ]
  },
  {
   "cell_type": "code",
   "execution_count": null,
   "id": "bcb5f41c-c866-498e-8fa3-9715383900d1",
   "metadata": {},
   "outputs": [],
   "source": [
    "# получаем рекомендации для всех пользователей\n",
    "als_recommendations = als_model.recommend(\n",
    "    user_ids_encoded, \n",
    "    user_item_matrix_train[user_ids_encoded], \n",
    "    filter_already_liked_items=True, N=5)"
   ]
  },
  {
   "cell_type": "code",
   "execution_count": null,
   "id": "5b9f1ced-aad9-4921-bd79-909912f27618",
   "metadata": {},
   "outputs": [],
   "source": [
    "als_model.save('../models/als_model')"
   ]
  },
  {
   "cell_type": "raw",
   "id": "7eb33e21-4c51-4f56-93f7-ebd34880b5a6",
   "metadata": {},
   "source": [
    "os.environ.get('AWS_SECRET_ACCESS_KEY')"
   ]
  },
  {
   "cell_type": "raw",
   "id": "f0bc8597-c5f6-49e3-83ea-aec43492af9a",
   "metadata": {},
   "source": [
    "TRACKING_SERVER_HOST = \"127.0.0.1\"\n",
    "TRACKING_SERVER_PORT = 5000\n",
    "RUN_NAME = \"test run\"\n",
    "REGISTRY_MODEL_NAME = \"bank_recom\"\n",
    "YOUR_NAME = \"GEORGE_V_B\" # введите своё имя для создания уникального эксперимента\n",
    "assert YOUR_NAME, \"введите своё имя в переменной YOUR_NAME для создания уникального эксперимента\"\n",
    "EXPERIMENT_NAME = f\"ML_experiment_{YOUR_NAME}\"\n",
    "#EXPERIMENT_NAME = 'test_connection_experiment_GEORGE2'"
   ]
  },
  {
   "cell_type": "code",
   "execution_count": null,
   "id": "db70ec9e-1e6f-47be-ab3a-40e89ac4209b",
   "metadata": {},
   "outputs": [],
   "source": [
    "# преобразуем полученные рекомендации в табличный формат\n",
    "item_ids_enc = als_recommendations[0]\n",
    "als_scores = als_recommendations[1]\n",
    "\n",
    "als_recommendations = pd.DataFrame({\n",
    "    \"user_id_enc\": user_ids_encoded,\n",
    "    \"item_id_enc\": item_ids_enc.tolist(), \n",
    "    \"score\": als_scores.tolist()})\n",
    "als_recommendations = als_recommendations.explode([\"item_id_enc\", \"score\"], ignore_index=True)\n",
    "\n",
    "# приводим типы данных\n",
    "als_recommendations[\"item_id_enc\"] = als_recommendations[\"item_id_enc\"].astype(\"int\")\n",
    "als_recommendations[\"score\"] = als_recommendations[\"score\"].astype(\"float\")\n",
    "\n",
    "# получаем изначальные идентификаторы\n",
    "als_recommendations[\"user_id\"] = user_encoder.inverse_transform(als_recommendations[\"user_id_enc\"])\n",
    "als_recommendations[\"item_id\"] = item_encoder.inverse_transform(als_recommendations[\"item_id_enc\"])\n",
    "als_recommendations = als_recommendations.drop(columns=[\"user_id_enc\", \"item_id_enc\"])"
   ]
  },
  {
   "cell_type": "code",
   "execution_count": null,
   "id": "b24adc64-a02b-4280-a273-1d58ed3ec362",
   "metadata": {},
   "outputs": [],
   "source": [
    "als_recommendations = als_recommendations.sort_values('score', ascending=False)\n",
    "als_recommendations = als_recommendations[[\"user_id\", \"item_id\", \"score\"]]\n",
    "als_recommendations.to_parquet(\"../data/als_recommendations.parquet\")"
   ]
  },
  {
   "cell_type": "code",
   "execution_count": null,
   "id": "24534ab0-535b-4eeb-974a-bf4e6ba400c0",
   "metadata": {},
   "outputs": [],
   "source": [
    "als_recommendations.pivot_table(index='user_id', columns = 'item_id')"
   ]
  },
  {
   "cell_type": "code",
   "execution_count": null,
   "id": "55848052-13df-460e-9e46-9541bdf756ab",
   "metadata": {},
   "outputs": [],
   "source": [
    "als_recommendations[als_recommendations['user_id']==179350]"
   ]
  },
  {
   "cell_type": "code",
   "execution_count": null,
   "id": "9b242018-cca1-4d38-89e2-9ed74266a562",
   "metadata": {},
   "outputs": [],
   "source": [
    "def compute_ndcg(rating: pd.Series, score: pd.Series, k):\n",
    "\n",
    "    \"\"\" подсчёт ndcg\n",
    "    rating: истинные оценки\n",
    "    score: оценки модели\n",
    "    k: количество айтемов (по убыванию score) для оценки, остальные - отбрасываются\n",
    "    \"\"\"\n",
    "    \n",
    "    # если кол-во объектов меньше 5, то NDCG - не определена\n",
    "    if len(rating) < 5:\n",
    "        return np.nan\n",
    "\n",
    "    ndcg = sklearn.metrics.ndcg_score(np.asarray([rating.to_numpy()]), np.asarray([score.to_numpy()]), k=k)\n",
    "\n",
    "    return ndcg"
   ]
  },
  {
   "cell_type": "code",
   "execution_count": null,
   "id": "a20f75b6-72b8-454a-a448-42d67d4a095e",
   "metadata": {},
   "outputs": [],
   "source": [
    "events_test"
   ]
  },
  {
   "cell_type": "code",
   "execution_count": null,
   "id": "020547c5-6277-4296-b0c7-9f1f1496dad2",
   "metadata": {},
   "outputs": [],
   "source": [
    "test_matrix = events_test[target_col.insert(0, 'user_id')].groupby(by='user_id').mean()"
   ]
  },
  {
   "cell_type": "code",
   "execution_count": null,
   "id": "d3b27511-198b-4eec-bcae-086a6151f833",
   "metadata": {},
   "outputs": [],
   "source": [
    "events_test = test_matrix.stack().reset_index()\n",
    "events_test.columns = [\"user_id\", \"item_id\", \"rating_test\"]\n",
    "events_test = events_test[events_test['rating_test']>0]\n",
    "events_test"
   ]
  },
  {
   "cell_type": "code",
   "execution_count": null,
   "id": "1c8552eb-c108-4277-b9c9-68374aaa7c64",
   "metadata": {},
   "outputs": [],
   "source": [
    "als_recommendations = (\n",
    "    als_recommendations\n",
    "    .merge(events_test[[\"user_id\", \"item_id\", \"rating_test\"]],\n",
    "           on=[\"user_id\", \"item_id\"], how=\"left\")\n",
    ")"
   ]
  },
  {
   "cell_type": "code",
   "execution_count": null,
   "id": "5524ea71-2b1c-4485-a1db-8c66a5e83ab5",
   "metadata": {},
   "outputs": [],
   "source": [
    "als_recommendations"
   ]
  },
  {
   "cell_type": "code",
   "execution_count": null,
   "id": "9523930a-7961-44c6-bb62-291dcf17d416",
   "metadata": {},
   "outputs": [],
   "source": [
    "rating_test_idx = ~als_recommendations[\"rating_test\"].isnull()\n",
    "ndcg_at_5_scores = als_recommendations[rating_test_idx].groupby(\"user_id\").apply(lambda x: compute_ndcg(x[\"rating_test\"], x[\"score\"], k=5))"
   ]
  },
  {
   "cell_type": "code",
   "execution_count": null,
   "id": "206c2eb3-803a-4a07-8612-7684762f3e87",
   "metadata": {},
   "outputs": [],
   "source": [
    "rating_test_idx"
   ]
  },
  {
   "cell_type": "code",
   "execution_count": null,
   "id": "c7f9e098-3db6-43b2-a665-bf9b8c0ac17d",
   "metadata": {},
   "outputs": [],
   "source": [
    "len(ndcg_at_5_scores)/len(events['user_id'].unique())"
   ]
  },
  {
   "cell_type": "code",
   "execution_count": null,
   "id": "81fa7140-a364-432f-812c-acc9bf2b75a3",
   "metadata": {},
   "outputs": [],
   "source": [
    "#als_model = AlternatingLeastSquares().load('../models/als_model.npz')"
   ]
  },
  {
   "cell_type": "code",
   "execution_count": null,
   "id": "dfba3dfb-745c-4541-947a-35f9572914f5",
   "metadata": {},
   "outputs": [],
   "source": [
    "events_train"
   ]
  },
  {
   "cell_type": "code",
   "execution_count": null,
   "id": "49bc6fa3-5234-4eb8-89bb-3e41017b9007",
   "metadata": {},
   "outputs": [],
   "source": [
    "events_test[\"user_id_enc\"] = user_encoder.transform(events_test[\"user_id\"])\n",
    "events_train[\"user_id\"] = user_encoder.inverse_transform(events_train[\"user_id_enc\"])\n",
    "events_test[\"item_id_enc\"] = item_encoder.transform(events_test[\"item_id\"])\n",
    "events_train[\"item_id\"] = item_encoder.inverse_transform(events_train[\"item_id_enc\"])"
   ]
  },
  {
   "cell_type": "code",
   "execution_count": null,
   "id": "b06fc3f9-9885-4a13-a488-f8d4d0981c23",
   "metadata": {},
   "outputs": [],
   "source": [
    "events_train"
   ]
  },
  {
   "cell_type": "code",
   "execution_count": null,
   "id": "2286d28c-5a31-4e74-9689-d73bfcaeecff",
   "metadata": {},
   "outputs": [],
   "source": [
    "events_test"
   ]
  },
  {
   "cell_type": "code",
   "execution_count": null,
   "id": "10b9d859-9477-48f3-bea5-53722cf498de",
   "metadata": {},
   "outputs": [],
   "source": [
    "# получим энкодированные идентификаторы всех объектов, известных нам из events_train\n",
    "train_item_ids_enc = events_train['item_id_enc'].unique()\n",
    "\n",
    "max_similar_items = 10"
   ]
  },
  {
   "cell_type": "code",
   "execution_count": null,
   "id": "2111a1b5-3e6b-4704-8b7d-a920f74dee11",
   "metadata": {},
   "outputs": [],
   "source": [
    "train_item_ids_enc"
   ]
  },
  {
   "cell_type": "code",
   "execution_count": null,
   "id": "cabfff0d-de2c-40b7-bc4a-eb0932baa827",
   "metadata": {},
   "outputs": [],
   "source": [
    "# получаем списки похожих объектов, используя ранее полученную ALS-модель\n",
    "# метод similar_items возвращает и сам объект, как наиболее похожий\n",
    "# этот объект мы позже отфильтруем, но сейчас запросим на 1 больше\n",
    "similar_items = als_model.similar_items(train_item_ids_enc, N=max_similar_items+1)"
   ]
  },
  {
   "cell_type": "code",
   "execution_count": null,
   "id": "0766f028-7c89-4355-87db-068902ebdcd6",
   "metadata": {},
   "outputs": [],
   "source": [
    "# преобразуем полученные списки в табличный формат\n",
    "sim_item_item_ids_enc = similar_items[0]\n",
    "sim_item_scores = similar_items[1]"
   ]
  },
  {
   "cell_type": "code",
   "execution_count": null,
   "id": "eae0ce68-b5dd-41c3-a1d4-6973bf31335d",
   "metadata": {},
   "outputs": [],
   "source": [
    "similar_items_score = pd.DataFrame(sim_item_scores.tolist())\n"
   ]
  },
  {
   "cell_type": "code",
   "execution_count": null,
   "id": "e22e87d7-06b4-4be9-8cd9-74759f08fb29",
   "metadata": {},
   "outputs": [],
   "source": [
    "similar_items = pd.DataFrame(sim_item_item_ids_enc.tolist())"
   ]
  },
  {
   "cell_type": "code",
   "execution_count": null,
   "id": "56943edb-4abd-49d9-86da-6d98c97acc8a",
   "metadata": {},
   "outputs": [],
   "source": [
    "similar_items"
   ]
  },
  {
   "cell_type": "code",
   "execution_count": null,
   "id": "06765921-2a08-49f7-91d8-f2e2c4e7ec72",
   "metadata": {},
   "outputs": [],
   "source": [
    "similar_items = similar_items.loc[:, :1]\n",
    "similar_items.columns = [\"item_id_enc\", 'item_id_2']\n",
    "similar_items['score'] = similar_items_score.loc[:, 1]\n",
    "similar_items = similar_items.query(\"item_id_enc != item_id_2\") \n",
    "similar_items['item_id_1'] = item_encoder.inverse_transform(similar_items['item_id_enc'])\n",
    "similar_items['item_id_2'] = item_encoder.inverse_transform(similar_items['item_id_2'])\n",
    "similar_items"
   ]
  },
  {
   "cell_type": "code",
   "execution_count": null,
   "id": "dcce8103-1c11-4f74-869d-f6d2fc64f916",
   "metadata": {},
   "outputs": [],
   "source": [
    "events_train"
   ]
  },
  {
   "cell_type": "code",
   "execution_count": null,
   "id": "136364bf-3aa3-4b54-bde8-3d514ed2b3b4",
   "metadata": {},
   "outputs": [],
   "source": [
    "content_recommendations = events_train.loc[:, ('user_id', 'item_id')]"
   ]
  },
  {
   "cell_type": "code",
   "execution_count": null,
   "id": "c37b0f38-6ec0-4bb2-8806-06d8b2c056f9",
   "metadata": {},
   "outputs": [],
   "source": [
    "content_recommendations = pd.merge(content_recommendations[['user_id', 'item_id']],\n",
    "        similar_items[['item_id_1', 'item_id_2', 'score']].rename(columns={\"item_id_1\": \"item_id\"}),\n",
    "        on='item_id',\n",
    "        how = 'inner')"
   ]
  },
  {
   "cell_type": "code",
   "execution_count": null,
   "id": "b27ed43b-7c6b-4fb5-bbb6-a7bc2ed1382c",
   "metadata": {},
   "outputs": [],
   "source": [
    "content_recommendations = content_recommendations.drop('item_id', axis=1).rename(columns={\"item_id_2\": \"item_id\"})"
   ]
  },
  {
   "cell_type": "code",
   "execution_count": null,
   "id": "37288299-e26d-47ff-93a1-e9a85b487e94",
   "metadata": {},
   "outputs": [],
   "source": [
    "content_recommendations"
   ]
  },
  {
   "cell_type": "code",
   "execution_count": null,
   "id": "cc3ef8b2-6844-4bbd-a26c-9c1d57cb8054",
   "metadata": {},
   "outputs": [],
   "source": [
    "content_recommendations.to_parquet('../data/content_recommendations.parquet')"
   ]
  },
  {
   "cell_type": "markdown",
   "id": "c4110165-b552-47d6-9305-2a97e1ddaabb",
   "metadata": {},
   "source": [
    "# Ранжирование рекомендаций"
   ]
  },
  {
   "cell_type": "code",
   "execution_count": null,
   "id": "5783e593-b8f7-487f-8cf6-9b16058eef96",
   "metadata": {},
   "outputs": [],
   "source": [
    "len(events[events['ind_actividad_cliente']]['user_id'].unique())"
   ]
  },
  {
   "cell_type": "code",
   "execution_count": null,
   "id": "21083917-9742-4d10-a55f-ae83706ed64f",
   "metadata": {},
   "outputs": [],
   "source": [
    "new_users = events[events['ind_actividad_cliente']]['user_id'].unique()"
   ]
  },
  {
   "cell_type": "code",
   "execution_count": null,
   "id": "f60f2bfa-e2cc-4d5d-8a03-a731416bbf45",
   "metadata": {},
   "outputs": [],
   "source": [
    "users_test.isin(events[events['ind_actividad_cliente']]['user_id'].unique())"
   ]
  },
  {
   "cell_type": "code",
   "execution_count": null,
   "id": "8122d375-281e-43ad-8837-69572935f578",
   "metadata": {},
   "outputs": [],
   "source": [
    "events_test"
   ]
  },
  {
   "cell_type": "code",
   "execution_count": null,
   "id": "c2ef3f09-cb4e-45e2-8281-43609f0e65ce",
   "metadata": {},
   "outputs": [],
   "source": [
    "# задаём точку разбиения\n",
    "split_for_labels_idx = events_test[\"user_id\"].isin(new_users)\n",
    "events_labels = events_test[split_for_labels_idx].copy()\n",
    "events_test_2 = events_test[~split_for_labels_idx].copy() "
   ]
  },
  {
   "cell_type": "code",
   "execution_count": null,
   "id": "7d96d7f0-cc67-410e-84cd-25d584818c87",
   "metadata": {},
   "outputs": [],
   "source": [
    "candidates = pd.merge(\n",
    "    als_recommendations[[\"user_id\", \"item_id\", \"score\"]].rename(columns={\"score\": \"als_score\"}),\n",
    "    content_recommendations[[\"user_id\", \"item_id\", \"score\"]].rename(columns={\"score\": \"cnt_score\"}),\n",
    "    on=('user_id', 'item_id'),\n",
    "    how=\"outer\")\n",
    "\n",
    "len(candidates)"
   ]
  },
  {
   "cell_type": "code",
   "execution_count": null,
   "id": "a2124b96-cd0f-40b0-8c18-676a5e0bf6e2",
   "metadata": {},
   "outputs": [],
   "source": [
    "candidates"
   ]
  },
  {
   "cell_type": "code",
   "execution_count": null,
   "id": "a3f268fe-3f79-43f0-92b5-958856bdaa49",
   "metadata": {},
   "outputs": [],
   "source": [
    "# добавляем таргет к кандидатам со значением:\n",
    "# — 1 для тех item_id, которые пользователь прочитал\n",
    "# — 0, для всех остальных \n",
    "\n",
    "events_labels[\"target\"] = 1\n",
    "candidates = candidates.merge(events_labels[[\"user_id\", \"item_id\", \"target\"]],\n",
    "                              on=('user_id', 'item_id'),\n",
    "                              how=\"left\")"
   ]
  },
  {
   "cell_type": "code",
   "execution_count": null,
   "id": "8fb6cb64-4a45-4c23-aaf3-7be3ef0b1057",
   "metadata": {},
   "outputs": [],
   "source": [
    "candidates[\"target\"] = candidates[\"target\"].fillna(0).astype(\"int\")\n",
    "candidates"
   ]
  },
  {
   "cell_type": "code",
   "execution_count": null,
   "id": "85b9d1e1-0cad-42c9-b5d1-3bb939952950",
   "metadata": {},
   "outputs": [],
   "source": [
    "candidates.target.mean()"
   ]
  },
  {
   "cell_type": "code",
   "execution_count": null,
   "id": "4841a096-7a83-4a7e-b2fa-cd5964af154e",
   "metadata": {},
   "outputs": [],
   "source": [
    "candidates.to_parquet('../data/candidates.parquet')"
   ]
  },
  {
   "cell_type": "code",
   "execution_count": null,
   "id": "391e46ba-45ac-405a-80ce-fa2f2c6c5e80",
   "metadata": {},
   "outputs": [],
   "source": [
    "# в кандидатах оставляем только тех пользователей, у которых есть хотя бы один положительный таргет\n",
    "candidates_to_sample = candidates.groupby(\"user_id\").filter(lambda x: x[\"target\"].sum() > 0)"
   ]
  },
  {
   "cell_type": "code",
   "execution_count": null,
   "id": "74ce7084-1ee5-4ab7-a1fa-b65d7745e6ed",
   "metadata": {},
   "outputs": [],
   "source": [
    "candidates_to_sample.target.mean()"
   ]
  },
  {
   "cell_type": "code",
   "execution_count": null,
   "id": "ccc12bca-d45f-42af-9d63-12dcbc24d1f0",
   "metadata": {},
   "outputs": [],
   "source": [
    "candidates_to_sample"
   ]
  },
  {
   "cell_type": "code",
   "execution_count": null,
   "id": "3cbe320a-f9a8-44b3-8175-31d37e7865f0",
   "metadata": {},
   "outputs": [],
   "source": [
    "# для каждого пользователя оставляем только 4 негативных примера\n",
    "negatives_per_user = 3\n",
    "candidates_for_train = pd.concat([\n",
    "    candidates_to_sample.query(\"target == 1\"),\n",
    "    candidates_to_sample.query(\"target == 0\") \\\n",
    "        .groupby(\"user_id\") \\\n",
    "        .apply(lambda x: x.sample(negatives_per_user, random_state=RANDOM_STATE, replace=True))\n",
    "])"
   ]
  },
  {
   "cell_type": "code",
   "execution_count": null,
   "id": "eb879baf-53a4-4df1-aa8c-8e0b66bbbb06",
   "metadata": {},
   "outputs": [],
   "source": [
    "candidates_for_train['target'].mean()"
   ]
  },
  {
   "cell_type": "code",
   "execution_count": null,
   "id": "c86aabb4-c2bc-407b-8e19-eee10634fd71",
   "metadata": {},
   "outputs": [],
   "source": [
    "# задаём имена колонок признаков и таргета\n",
    "features = ['als_score', 'cnt_score']\n",
    "target = 'target'\n",
    "\n",
    "# Create the Pool object\n",
    "train_data = Pool(\n",
    "    data=candidates_for_train[features], \n",
    "    label=candidates_for_train[target])\n",
    "\n",
    "# инициализируем модель CatBoostClassifier\n",
    "cb_model = CatBoostClassifier(\n",
    "    iterations=1000,\n",
    "    learning_rate=0.1,\n",
    "    depth=6,\n",
    "    loss_function='Logloss',\n",
    "    verbose=100,\n",
    "    random_seed=0\n",
    ")\n",
    "\n",
    "# тренируем модель\n",
    "cb_model.fit(train_data)"
   ]
  },
  {
   "cell_type": "code",
   "execution_count": null,
   "id": "6445f183-643e-49ad-8833-6e0aabfc417f",
   "metadata": {},
   "outputs": [],
   "source": [
    "cb_model.save_model('../models/catboost_model.bin')"
   ]
  },
  {
   "cell_type": "code",
   "execution_count": null,
   "id": "18052800-05c5-4b23-86b1-017b9a910108",
   "metadata": {},
   "outputs": [],
   "source": [
    "candidates_for_train.reset_index(drop=True).to_parquet('../data/candidates_for_train.parquet')"
   ]
  },
  {
   "cell_type": "code",
   "execution_count": null,
   "id": "b93518ed-7d68-4fe5-a469-3699b69daf9b",
   "metadata": {},
   "outputs": [],
   "source": [
    "candidates_to_rank = pd.merge(\n",
    "    als_recommendations[[\"user_id\", \"item_id\", \"score\"]].rename(columns={\"score\": \"als_score\"}),\n",
    "    content_recommendations[[\"user_id\", \"item_id\", \"score\"]].rename(columns={\"score\": \"cnt_score\"}),\n",
    "    on=('user_id', 'item_id'),\n",
    "    how=\"outer\")"
   ]
  },
  {
   "cell_type": "code",
   "execution_count": null,
   "id": "76238893-94b7-49a3-9dbc-c49a1d2dfd9c",
   "metadata": {},
   "outputs": [],
   "source": [
    "# оставляем только тех пользователей, что есть в тестовой выборке, для экономии ресурсов\n",
    "candidates_to_rank = candidates_to_rank[candidates_to_rank[\"user_id\"].isin(events_test_2[\"user_id\"].drop_duplicates())]\n",
    "print(len(candidates_to_rank))"
   ]
  },
  {
   "cell_type": "code",
   "execution_count": null,
   "id": "58519c5f-6b94-420b-99a2-1a36389a661b",
   "metadata": {},
   "outputs": [],
   "source": [
    "candidates_to_rank.reset_index(drop=True).to_parquet('./data/candidates_to_rank.parquet')"
   ]
  },
  {
   "cell_type": "markdown",
   "id": "b702f3c9-5e27-4d32-8a66-9a5db5fcac9a",
   "metadata": {},
   "source": [
    "### Ранжирование кандидатов для рекомендаций без доп признаков"
   ]
  },
  {
   "cell_type": "code",
   "execution_count": null,
   "id": "69978542-2d60-46eb-842a-583e3aac406c",
   "metadata": {},
   "outputs": [],
   "source": [
    "# задаём имена колонок признаков и таргета\n",
    "features = ['als_score', 'cnt_score']\n",
    "target = 'target'"
   ]
  },
  {
   "cell_type": "code",
   "execution_count": null,
   "id": "e920b30f-d9bc-4f6a-a086-be2302b87ae1",
   "metadata": {},
   "outputs": [],
   "source": [
    "inference_data = Pool(data=candidates_to_rank[features])\n",
    "predictions = cb_model.predict_proba(inference_data)\n",
    "\n",
    "candidates_to_rank[\"cb_score\"] = predictions[:, 1]"
   ]
  },
  {
   "cell_type": "code",
   "execution_count": null,
   "id": "da6088a9-0455-4cae-8920-2f6f2174a7d6",
   "metadata": {},
   "outputs": [],
   "source": [
    "# для каждого пользователя проставляем rank, начиная с 1 — это максимальный cb_score\n",
    "candidates_to_rank = candidates_to_rank.sort_values([\"user_id\", \"cb_score\"], ascending=[True, False])"
   ]
  },
  {
   "cell_type": "code",
   "execution_count": null,
   "id": "e9f9d26f-c2f2-452d-9433-b2da89de8e67",
   "metadata": {},
   "outputs": [],
   "source": [
    "candidates_to_rank"
   ]
  },
  {
   "cell_type": "code",
   "execution_count": null,
   "id": "87a285e1-3eee-41f6-b116-a034978918f8",
   "metadata": {},
   "outputs": [],
   "source": [
    "candidates_to_rank[\"rank\"] = candidates_to_rank.groupby(\"user_id\")[\"cb_score\"].rank(method='first', ascending=False)"
   ]
  },
  {
   "cell_type": "code",
   "execution_count": null,
   "id": "b24d4de7-673f-4185-8cc3-e823fadf5cef",
   "metadata": {},
   "outputs": [],
   "source": [
    "max_recommendations_per_user = 100\n",
    "final_recommendations = candidates_to_rank[candidates_to_rank['rank']<=max_recommendations_per_user]"
   ]
  },
  {
   "cell_type": "code",
   "execution_count": null,
   "id": "56dd455c-7089-400f-81a0-dc484f888993",
   "metadata": {},
   "outputs": [],
   "source": [
    "final_recommendations"
   ]
  },
  {
   "cell_type": "code",
   "execution_count": null,
   "id": "2d578b98-b1d3-4430-a676-b0aed13a9689",
   "metadata": {},
   "outputs": [],
   "source": [
    "final_recommendations.reset_index(drop=True).to_parquet('../data/recommendations.parquet')"
   ]
  },
  {
   "cell_type": "code",
   "execution_count": null,
   "id": "d6a58c59-5c9e-4085-855b-81fe61b4e8ab",
   "metadata": {},
   "outputs": [],
   "source": [
    "def process_events_recs_for_binary_metrics(events_train, events_test, recs, top_k=None):\n",
    "\n",
    "    \"\"\"\n",
    "    размечает пары <user_id, item_id> для общего множества пользователей признаками\n",
    "    - gt (ground truth)\n",
    "    - pr (prediction)\n",
    "    top_k: расчёт ведётся только для top k-рекомендаций\n",
    "    \"\"\"\n",
    "\n",
    "    events_test[\"gt\"] = True\n",
    "    common_users = set(events_test[\"user_id\"]) & set(recs[\"user_id\"])\n",
    "\n",
    "    print(f\"Common users: {len(common_users)}\")\n",
    "    \n",
    "    events_for_common_users = events_test[events_test[\"user_id\"].isin(common_users)].copy()\n",
    "    recs_for_common_users = recs[recs[\"user_id\"].isin(common_users)].copy()\n",
    "\n",
    "    recs_for_common_users = recs_for_common_users.sort_values([\"user_id\", \"score\"], ascending=[True, False])\n",
    "\n",
    "    # оставляет только те item_id, которые были в events_train, \n",
    "    # т. к. модель не имела никакой возможности давать рекомендации для новых айтемов\n",
    "    events_for_common_users = events_for_common_users[events_for_common_users[\"item_id\"].isin(events_train[\"item_id\"].unique())]\n",
    "\n",
    "    if top_k is not None:\n",
    "        recs_for_common_users = recs_for_common_users.groupby(\"user_id\").head(top_k)\n",
    "    \n",
    "    events_recs_common = events_for_common_users[[\"user_id\", \"item_id\", \"gt\"]].merge(\n",
    "        recs_for_common_users[[\"user_id\", \"item_id\", \"score\"]], \n",
    "        on=[\"user_id\", \"item_id\"], how=\"outer\")    \n",
    "\n",
    "    events_recs_common[\"gt\"] = events_recs_common[\"gt\"].fillna(False)\n",
    "    events_recs_common[\"pr\"] = ~events_recs_common[\"score\"].isnull()\n",
    "    \n",
    "    events_recs_common[\"tp\"] = events_recs_common[\"gt\"] & events_recs_common[\"pr\"]\n",
    "    events_recs_common[\"fp\"] = ~events_recs_common[\"gt\"] & events_recs_common[\"pr\"]\n",
    "    events_recs_common[\"fn\"] = events_recs_common[\"gt\"] & ~events_recs_common[\"pr\"]\n",
    "\n",
    "    return events_recs_common "
   ]
  },
  {
   "cell_type": "code",
   "execution_count": null,
   "id": "7d066c8c-34bc-4ee6-9ced-8383f08c37ad",
   "metadata": {},
   "outputs": [],
   "source": [
    "def compute_cls_metrics(events_recs_for_binary_metric):\n",
    "    \n",
    "    groupper = events_recs_for_binary_metric.groupby(\"user_id\")\n",
    "\n",
    "    # precision = tp / (tp + fp)\n",
    "    precision = groupper[\"tp\"].sum()/(groupper[\"tp\"].sum()+groupper[\"fp\"].sum())\n",
    "    precision = precision.fillna(0).mean()\n",
    "    \n",
    "    # recall = tp / (tp + fn)\n",
    "    recall = groupper[\"tp\"].sum()/(groupper[\"tp\"].sum()+groupper[\"fn\"].sum())\n",
    "    recall = recall.fillna(0).mean()\n",
    "\n",
    "    return precision, recall"
   ]
  },
  {
   "cell_type": "code",
   "execution_count": null,
   "id": "5ef056c6-498a-4096-a002-4295b27acc58",
   "metadata": {},
   "outputs": [],
   "source": [
    "# количество холодных пользователей\n",
    "cold_users = set(users_test).difference(set(users_train))\n",
    "print(len(cold_users)) "
   ]
  },
  {
   "cell_type": "code",
   "execution_count": null,
   "id": "55ed904f-7d15-4d4b-ad4d-7c565c6da5a4",
   "metadata": {},
   "outputs": [],
   "source": [
    "# для экономии ресурсов оставим события только тех пользователей, \n",
    "# для которых следует оценить рекомендации\n",
    "events_inference = pd.concat([events_train, events_labels])\n",
    "events_inference = events_inference[events_inference[\"user_id\"].isin(events_test_2[\"user_id\"].drop_duplicates())]\n",
    "\n",
    "cb_events_recs_for_binary_metrics_5 = process_events_recs_for_binary_metrics(\n",
    "    events_inference,\n",
    "    events_test_2,\n",
    "    final_recommendations.rename(columns={\"cb_score\": \"score\"}), \n",
    "    top_k=24)\n",
    "\n",
    "cb_precision_5, cb_recall_5 = compute_cls_metrics(cb_events_recs_for_binary_metrics_5)\n",
    "\n",
    "print(f\"precision: {cb_precision_5:.3f}, recall: {cb_recall_5:.3f}\")"
   ]
  },
  {
   "cell_type": "code",
   "execution_count": null,
   "id": "b700d368-4b1b-42f3-866b-9c20ab0ab793",
   "metadata": {},
   "outputs": [],
   "source": [
    "feature_importance = pd.DataFrame(cb_model.get_feature_importance(), \n",
    "    index=features, \n",
    "    columns=[\"fi\"])\n",
    "\n",
    "print(feature_importance )"
   ]
  },
  {
   "cell_type": "code",
   "execution_count": null,
   "id": "65e23b69-5441-4f4c-ae7d-f22441b48c1e",
   "metadata": {},
   "outputs": [],
   "source": [
    "final_recommendations[final_recommendations['user_id']==15933]"
   ]
  },
  {
   "cell_type": "markdown",
   "id": "82660647-8a7b-4592-a52d-824310a767c3",
   "metadata": {},
   "source": [
    "### Обучение модели с доп признаками по пользователям"
   ]
  },
  {
   "cell_type": "code",
   "execution_count": null,
   "id": "105c50df-5c3f-4168-8198-0885800c6916",
   "metadata": {},
   "outputs": [],
   "source": [
    "events[events.columns[:24]].columns"
   ]
  },
  {
   "cell_type": "code",
   "execution_count": null,
   "id": "64a3b0bb-b0cd-4a6e-b4e1-993cb582a55f",
   "metadata": {},
   "outputs": [],
   "source": []
  },
  {
   "cell_type": "code",
   "execution_count": null,
   "id": "f48dc70b-3787-4941-bf5b-d70f04e97c01",
   "metadata": {},
   "outputs": [],
   "source": [
    "def get_user_features(events):\n",
    "    \"\"\" считает пользовательские признаки \"\"\"\n",
    "    user_features = events.groupby(\"user_id\").agg(\n",
    "        client_experience=(\"antiguedad\", \"max\"),\n",
    "        age=(\"age\", \"max\"),\n",
    "        income=(\"renta\", \"mean\"),\n",
    "        sex=(\"sexo\", \"last\"),\n",
    "        status=(\"ind_empleado\", \"first\"),\n",
    "        citizenship=(\"pais_residencia\", \"first\"),\n",
    "        first_client=(\"indrel\", \"first\"),\n",
    "        client_group=(\"indrel_1mes\", \"first\"),\n",
    "        client_type=(\"tiprel_1mes\", \"first\"),\n",
    "        resident=(\"indresi\", \"first\"),\n",
    "        born_in_esp=(\"indext\", \"first\"),\n",
    "        affiliated=(\"conyuemp\", \"first\"),\n",
    "        channel=(\"canal_entrada\", \"last\"),\n",
    "        deceased_index=(\"indfall\", \"first\"),\n",
    "        address_type=(\"tipodom\", \"first\"),\n",
    "        code_prov=(\"cod_prov\", \"first\"),\n",
    "        name_prov=(\"nomprov\", \"first\"),\n",
    "        is_active=(\"ind_actividad_cliente\", \"first\"),\n",
    "        client_cat=(\"segmento\", \"first\")      \n",
    "    )\n",
    "    \n",
    "    return user_features.reset_index()"
   ]
  },
  {
   "cell_type": "code",
   "execution_count": null,
   "id": "770257f5-c529-410f-85ba-0f1fa689f75c",
   "metadata": {},
   "outputs": [],
   "source": [
    "events_labels"
   ]
  },
  {
   "cell_type": "code",
   "execution_count": null,
   "id": "55af831b-a426-4e7d-a644-8cf121c2bbe6",
   "metadata": {},
   "outputs": [],
   "source": [
    "get_user_features(events)"
   ]
  },
  {
   "cell_type": "code",
   "execution_count": null,
   "id": "2db3ebd4-3e0f-4b8e-9e39-993e284358c7",
   "metadata": {},
   "outputs": [],
   "source": [
    "user_features_for_train = get_user_features(events)"
   ]
  },
  {
   "cell_type": "code",
   "execution_count": null,
   "id": "413dbaf1-85a3-4836-acef-8cb6dc91ad30",
   "metadata": {},
   "outputs": [],
   "source": [
    "user_features_for_train[user_features_for_train['channel'].isna()]"
   ]
  },
  {
   "cell_type": "code",
   "execution_count": null,
   "id": "9da8fab6-258c-418b-bf1d-b6614888175b",
   "metadata": {},
   "outputs": [],
   "source": [
    "candidates_for_train = candidates_for_train.merge(user_features_for_train, on=\"user_id\", how=\"left\")\n",
    "candidates_for_train"
   ]
  },
  {
   "cell_type": "code",
   "execution_count": null,
   "id": "3ad23a7e-497a-42a5-9e00-b5cec13b2c0f",
   "metadata": {},
   "outputs": [],
   "source": [
    "events_inference = pd.concat([events_train, events_labels])"
   ]
  },
  {
   "cell_type": "code",
   "execution_count": null,
   "id": "9f48a385-8758-4199-b8bc-71a5ef6e3bbe",
   "metadata": {},
   "outputs": [],
   "source": [
    "events_inference = events_inference[events_inference[\"user_id\"].isin(events_test[\"user_id\"].drop_duplicates())]"
   ]
  },
  {
   "cell_type": "code",
   "execution_count": null,
   "id": "c009e664-5178-4533-98df-823c3288e598",
   "metadata": {},
   "outputs": [],
   "source": [
    "# оставим только тех пользователей, что есть в тесте, для экономии ресурсов\n",
    "events_inference = pd.concat([events_train, events_labels])\n",
    "events_inference = events_inference[events_inference[\"user_id\"].isin(events_test[\"user_id\"].drop_duplicates())]\n",
    "\n",
    "user_features_for_ranking = get_user_features(events)\n",
    "candidates_to_rank = candidates_to_rank.merge(user_features_for_ranking, on=\"user_id\", how=\"left\")"
   ]
  },
  {
   "cell_type": "code",
   "execution_count": null,
   "id": "b891132a-5963-485c-bd11-00e8db84b76c",
   "metadata": {},
   "outputs": [],
   "source": [
    "candidates_to_rank"
   ]
  },
  {
   "cell_type": "code",
   "execution_count": null,
   "id": "ed6e3b9a-4e55-4f12-80ff-82ab8a51b2c1",
   "metadata": {},
   "outputs": [],
   "source": [
    "candidates_for_train['target'].mean()"
   ]
  },
  {
   "cell_type": "code",
   "execution_count": null,
   "id": "b3c8251a-59d2-4bde-94f0-50c1ef373545",
   "metadata": {},
   "outputs": [],
   "source": [
    "candidates_for_train.columns"
   ]
  },
  {
   "cell_type": "code",
   "execution_count": null,
   "id": "3d4fc2d2-d8bc-4692-989b-492dba59ed61",
   "metadata": {},
   "outputs": [],
   "source": [
    "# задаём имена колонок признаков и таргета\n",
    "features = ['als_score', 'cnt_score', 'client_experience',\n",
    "            'age', 'income', 'sex', 'status', 'citizenship',\n",
    "            'first_client', 'client_group', 'client_type', 'resident',\n",
    "            'born_in_esp', 'affiliated', 'channel', 'deceased_index',\n",
    "            'address_type', 'name_prov', 'is_active', 'client_cat']\n",
    "cat_features = ['sex', 'status', 'citizenship','first_client',\n",
    "                'client_group', 'client_type', 'resident',\n",
    "                'born_in_esp', 'affiliated', 'channel', 'deceased_index',\n",
    "                'address_type', 'name_prov', 'is_active', 'client_cat']\n",
    "target = 'target'\n",
    "\n",
    "# Create the Pool object\n",
    "train_data = Pool(\n",
    "    data=candidates_for_train[features], \n",
    "    label=candidates_for_train[target],\n",
    "    cat_features=cat_features\n",
    ")\n",
    "\n",
    "# инициализируем модель CatBoostClassifier\n",
    "cb_model_u = CatBoostClassifier(\n",
    "    iterations=1000,\n",
    "    learning_rate=0.1,\n",
    "    depth=6,\n",
    "    loss_function='Logloss',\n",
    "    verbose=100,\n",
    "    random_seed=0\n",
    ")\n",
    "\n",
    "# тренируем модель\n",
    "cb_model_u.fit(train_data)"
   ]
  },
  {
   "cell_type": "code",
   "execution_count": null,
   "id": "eb5d553b-f536-49c4-a13b-f9e63e42671c",
   "metadata": {},
   "outputs": [],
   "source": [
    "cb_model_u.save_model('../models/catboost_model_u.bin')"
   ]
  },
  {
   "cell_type": "code",
   "execution_count": null,
   "id": "e1d11092-a57e-4e76-849c-367f0a490ebe",
   "metadata": {},
   "outputs": [],
   "source": [
    "candidates_for_train.reset_index(drop=True).to_parquet('../data/candidates_for_train_u.parquet')"
   ]
  },
  {
   "cell_type": "code",
   "execution_count": null,
   "id": "da5657ae-ff2e-4eef-aa24-b0a6bf2d8333",
   "metadata": {},
   "outputs": [],
   "source": [
    "candidates_to_rank.reset_index(drop=True).to_parquet('../data/candidates_to_rank_u.parquet')"
   ]
  },
  {
   "cell_type": "code",
   "execution_count": null,
   "id": "6e2d5fd8-a08c-477a-b4b2-4ee2805e93fb",
   "metadata": {},
   "outputs": [],
   "source": [
    "candidates_to_rank"
   ]
  },
  {
   "cell_type": "markdown",
   "id": "f2bdec70-0e84-40d1-9a8d-72ea0c138163",
   "metadata": {},
   "source": [
    "### Ранжирование кандидатов для рекомендаций с доп признаками по пользователям"
   ]
  },
  {
   "cell_type": "code",
   "execution_count": null,
   "id": "95940a52-fe49-46df-b312-7fc106380765",
   "metadata": {},
   "outputs": [],
   "source": [
    "# задаём имена колонок признаков и таргета\n",
    "features = ['als_score', 'cnt_score', 'client_experience',\n",
    "            'age', 'income', 'sex', 'status', 'citizenship',\n",
    "            'first_client', 'client_group', 'client_type', 'resident',\n",
    "            'born_in_esp', 'affiliated', 'channel', 'deceased_index',\n",
    "            'address_type', 'name_prov', 'is_active', 'client_cat']\n",
    "cat_features = ['sex', 'status', 'citizenship','first_client',\n",
    "                'client_group', 'client_type', 'resident',\n",
    "                'born_in_esp', 'affiliated', 'channel', 'deceased_index',\n",
    "                'address_type', 'name_prov', 'is_active', 'client_cat']\n",
    "target = 'target'\n",
    "\n",
    "# Create the Pool object\n",
    "inference_data = Pool(\n",
    "    data=candidates_to_rank[features],\n",
    "    cat_features=cat_features\n",
    ")"
   ]
  },
  {
   "cell_type": "code",
   "execution_count": null,
   "id": "03f53656-a168-45dc-9943-83e982673de9",
   "metadata": {},
   "outputs": [],
   "source": [
    "predictions = cb_model_u.predict_proba(inference_data)"
   ]
  },
  {
   "cell_type": "code",
   "execution_count": null,
   "id": "0539cc1d-6dee-4a25-90d6-d6ebddfa5a20",
   "metadata": {},
   "outputs": [],
   "source": [
    "candidates_to_rank[\"cb_score\"] = predictions[:, 1]"
   ]
  },
  {
   "cell_type": "code",
   "execution_count": null,
   "id": "5d551b42-c0b4-4046-aca1-40de2c462742",
   "metadata": {},
   "outputs": [],
   "source": [
    "# для каждого пользователя проставляем rank, начиная с 1 — это максимальный cb_score\n",
    "candidates_to_rank = candidates_to_rank.sort_values([\"user_id\", \"cb_score\"], ascending=[True, False])"
   ]
  },
  {
   "cell_type": "code",
   "execution_count": null,
   "id": "a0fe55dc-82c4-478b-bd18-156ca68f8e30",
   "metadata": {},
   "outputs": [],
   "source": [
    "candidates_to_rank[\"rank\"] = candidates_to_rank.groupby(\"user_id\")[\"cb_score\"].rank(method='first', ascending=False)"
   ]
  },
  {
   "cell_type": "code",
   "execution_count": null,
   "id": "8cd0e276-7fd7-44ae-a3fc-00bc1fea6c04",
   "metadata": {},
   "outputs": [],
   "source": [
    "max_recommendations_per_user = 24\n",
    "final_recommendations = candidates_to_rank[candidates_to_rank['rank']<=max_recommendations_per_user]"
   ]
  },
  {
   "cell_type": "code",
   "execution_count": null,
   "id": "a54f5d97-6f3f-4602-84e8-b5d9b5aac123",
   "metadata": {},
   "outputs": [],
   "source": [
    "final_recommendations.reset_index(drop=True).to_parquet('../data/recommendations_u.parquet')"
   ]
  },
  {
   "cell_type": "code",
   "execution_count": null,
   "id": "ada4eee8-bb53-4010-a034-e919a34c3758",
   "metadata": {},
   "outputs": [],
   "source": [
    "final_recommendations"
   ]
  },
  {
   "cell_type": "markdown",
   "id": "8143a295-6006-4ba6-a0a6-6bbd22459fd4",
   "metadata": {},
   "source": [
    "### Оценка качества рекомендаций без дополнительных признаков"
   ]
  },
  {
   "cell_type": "code",
   "execution_count": null,
   "id": "037f2500-e763-402c-a540-0d37ebfd3a61",
   "metadata": {},
   "outputs": [],
   "source": [
    "metrics = {}"
   ]
  },
  {
   "cell_type": "code",
   "execution_count": null,
   "id": "5c696b46-7bd7-48f4-948b-8cc5e2e124ca",
   "metadata": {},
   "outputs": [],
   "source": [
    "# для экономии ресурсов оставим события только тех пользователей, \n",
    "# для которых следует оценить рекомендации\n",
    "events_inference = pd.concat([events_train, events_labels])\n",
    "events_inference = events_inference[events_inference[\"user_id\"].isin(events_test_2[\"user_id\"].drop_duplicates())]\n",
    "\n",
    "cb_events_recs_for_binary_metrics_5 = process_events_recs_for_binary_metrics(\n",
    "    events_inference,\n",
    "    events_test_2,\n",
    "    final_recommendations.rename(columns={\"cb_score\": \"score\"}), \n",
    "    top_k=5)\n",
    "\n",
    "cb_precision_5, cb_recall_5 = compute_cls_metrics(cb_events_recs_for_binary_metrics_5)\n",
    "metrics[\"precision\"] = cb_precision_5\n",
    "metrics[\"recall\"] = cb_recall_5\n",
    "print(f\"precision: {cb_precision_5:.3f}, recall: {cb_recall_5:.3f}\")"
   ]
  },
  {
   "cell_type": "markdown",
   "id": "0f3191d6-4cb6-4001-bd88-c0adf07cbc58",
   "metadata": {},
   "source": [
    "#### Покрытие (англ. coverage)"
   ]
  },
  {
   "cell_type": "code",
   "execution_count": null,
   "id": "ecf3029d-6563-460f-957a-3b06f1792e38",
   "metadata": {},
   "outputs": [],
   "source": [
    "# расчёт покрытия по объектам\n",
    "users_covered = len(final_recommendations['user_id'].drop_duplicates())\n",
    "users_total = len(events['user_id'].drop_duplicates())\n",
    "cov_items = users_covered / users_total\n",
    "metrics[\"coverage\"] = cov_items\n",
    "print(f\"coverage: {cov_items:.2f}\") "
   ]
  },
  {
   "cell_type": "code",
   "execution_count": null,
   "id": "63eaeb49-bfdb-4097-857a-43d71dba65e7",
   "metadata": {},
   "outputs": [],
   "source": [
    "events_inference.loc[:, \"listened\"] = True"
   ]
  },
  {
   "cell_type": "code",
   "execution_count": null,
   "id": "472a7dfc-fb8e-4f58-9a1b-0eb982e07eb0",
   "metadata": {},
   "outputs": [],
   "source": [
    "final_recommendations = final_recommendations.merge(\n",
    "    events_inference[[\"user_id\", \"item_id\", \"listened\"]], \n",
    "    on=[\"user_id\", \"item_id\"],\n",
    "    how=\"left\"\n",
    ")"
   ]
  },
  {
   "cell_type": "code",
   "execution_count": null,
   "id": "c946d11d-8f68-4ae0-bd72-76af7b031600",
   "metadata": {},
   "outputs": [],
   "source": [
    "final_recommendations[\"listened\"] = final_recommendations[\"listened\"].fillna(False).astype(\"bool\")"
   ]
  },
  {
   "cell_type": "code",
   "execution_count": null,
   "id": "01349dec-f102-4706-9666-adb73ffa19a3",
   "metadata": {},
   "outputs": [],
   "source": [
    "novelty_5 = (1-final_recommendations.query(\"rank <= 5\").groupby(\"user_id\")[\"listened\"].mean())"
   ]
  },
  {
   "cell_type": "code",
   "execution_count": null,
   "id": "88931278-da91-4ba2-8c50-fdfea4cbbadc",
   "metadata": {},
   "outputs": [],
   "source": [
    "metrics[\"novelty\"] = novelty_5.mean()\n",
    "print(f\"novelty: {novelty_5.mean():.2f}\") "
   ]
  },
  {
   "cell_type": "code",
   "execution_count": null,
   "id": "e5b0b78a-cb57-4b1a-aa9a-cfee24dca02b",
   "metadata": {},
   "outputs": [],
   "source": [
    "feature_importance = pd.DataFrame(cb_model_u.get_feature_importance(), \n",
    "    index=features, \n",
    "    columns=[\"fi\"])\n",
    "\n",
    "print(feature_importance.sort_values(by='fi', ascending=False))"
   ]
  },
  {
   "cell_type": "code",
   "execution_count": null,
   "id": "a6e735d7-7897-491e-8610-9ad326cf47c1",
   "metadata": {},
   "outputs": [],
   "source": [
    "experiment_id = mlflow.get_experiment_by_name(EXPERIMENT_NAME)\n",
    "if not experiment_id:\n",
    "    experiment_id = mlflow.create_experiment(EXPERIMENT_NAME)"
   ]
  },
  {
   "cell_type": "code",
   "execution_count": null,
   "id": "76695534-037b-4b71-9981-90c8b1b5c0e3",
   "metadata": {},
   "outputs": [],
   "source": [
    "pip_requirements = '../requirements.txt'\n",
    "#signature = mlflow.models.infer_signature(candidates_to_rank[features], predictions)\n",
    "input_example = candidates_to_rank[features][:10]\n",
    "metadata = {'model_type': 'als_cnt_features'}"
   ]
  },
  {
   "cell_type": "code",
   "execution_count": null,
   "id": "3f21d0d7-84c7-449e-9231-fb1c6a64901b",
   "metadata": {},
   "outputs": [],
   "source": [
    "metrics"
   ]
  },
  {
   "cell_type": "code",
   "execution_count": null,
   "id": "902f02a5-9fda-48ef-93b0-be9e42fe29a2",
   "metadata": {},
   "outputs": [],
   "source": [
    "RUN_NAME=\"Bank_recsys\""
   ]
  },
  {
   "cell_type": "code",
   "execution_count": null,
   "id": "36dc5b6d-5385-4cb6-8d35-0f75b619a887",
   "metadata": {},
   "outputs": [],
   "source": [
    "with mlflow.start_run(run_name=RUN_NAME, experiment_id=experiment_id.experiment_id) as run:\n",
    "    run_id = run.info.run_id\n",
    "    mlflow.log_metrics(metrics)\n",
    "    mlflow.log_artifact(\"../models/als_model.pkl\", \"../models/item_encoder.pkl\", \"../models/user_encoder.pkl\")\n",
    "    model_info = mlflow.catboost.log_model(\n",
    "        cb_model=catboos_model_u,\n",
    "        artifact_path=\"models\",\n",
    "        registered_model_name=REGISTRY_MODEL_NAME,\n",
    "        pip_requirements=pip_requirements,\n",
    "        metadata=metadata,\n",
    "        #signature=signature,\n",
    "        input_example=input_example\n",
    "        \n",
    "    )"
   ]
  }
 ],
 "metadata": {
  "kernelspec": {
   "display_name": "Python 3 (ipykernel)",
   "language": "python",
   "name": "python3"
  },
  "language_info": {
   "codemirror_mode": {
    "name": "ipython",
    "version": 3
   },
   "file_extension": ".py",
   "mimetype": "text/x-python",
   "name": "python",
   "nbconvert_exporter": "python",
   "pygments_lexer": "ipython3",
   "version": "3.12.2"
  }
 },
 "nbformat": 4,
 "nbformat_minor": 5
}
